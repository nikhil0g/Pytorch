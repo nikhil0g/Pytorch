{
 "cells": [
  {
   "cell_type": "markdown",
   "id": "cc7a6137",
   "metadata": {},
   "source": [
    "# pytorch model with torch (Logistic reg)"
   ]
  },
  {
   "cell_type": "code",
   "execution_count": 3,
   "id": "de64d4f7",
   "metadata": {},
   "outputs": [
    {
     "name": "stdout",
     "output_type": "stream",
     "text": [
      "Prediction before training: f(5) = 0.000\n",
      "ephoch 1: w = 0.300, loss = 30.00000000\n",
      "ephoch 11: w = 1.665, loss = 1.16278565\n",
      "ephoch 21: w = 1.934, loss = 0.04506890\n",
      "ephoch 31: w = 1.987, loss = 0.00174685\n",
      "ephoch 41: w = 1.997, loss = 0.00006770\n",
      "ephoch 51: w = 1.999, loss = 0.00000262\n",
      "ephoch 61: w = 2.000, loss = 0.00000010\n",
      "ephoch 71: w = 2.000, loss = 0.00000000\n",
      "ephoch 81: w = 2.000, loss = 0.00000000\n",
      "ephoch 91: w = 2.000, loss = 0.00000000\n",
      "Prediction after training: f(5) = 10.000\n"
     ]
    }
   ],
   "source": [
    "import torch\n",
    "\n",
    "# f = w * x\n",
    "\n",
    "#f = 2 * x\n",
    "\n",
    "X = torch.tensor([1,2,3,4], dtype=torch.float32)\n",
    "Y = torch.tensor([2,4,6,8], dtype=torch.float32)\n",
    "\n",
    "w = torch.tensor(0.0, dtype=torch.float32, requires_grad=True)\n",
    "\n",
    "# model prediction\n",
    "def forward(x):\n",
    "    return w * x\n",
    "\n",
    "#loss = MSE\n",
    "def loss(y, y_predicted):\n",
    "    return ((y_predicted-y)**2).mean()\n",
    "\n",
    "\n",
    "\n",
    "print(f'Prediction before training: f(5) = {forward(5):.3f}' ) # predicting 5 so should give 10\n",
    "\n",
    "\n",
    "# training\n",
    "learning_rate = 0.01\n",
    "n_iters = 100\n",
    "\n",
    "for ephoch in range(n_iters):\n",
    "    #prediction = forword pass\n",
    "    y_pred = forward(X)\n",
    "    \n",
    "    #loss\n",
    "    l = loss(Y,y_pred)\n",
    "    \n",
    "    #gradients backward pass\n",
    "    l.backward()\n",
    "    \n",
    "    #update weights\n",
    "    with torch.no_grad():\n",
    "        w -= learning_rate * w.grad\n",
    "    \n",
    "    #zero gradients\n",
    "    w.grad.zero_()\n",
    "    if ephoch % 10 == 0:\n",
    "        print(f'ephoch {ephoch+1}: w = {w:.3f}, loss = {l:.8f}')\n",
    "        \n",
    "print(f'Prediction after training: f(5) = {forward(5):.3f}' )\n",
    "        \n",
    "        "
   ]
  },
  {
   "cell_type": "code",
   "execution_count": null,
   "id": "08184677",
   "metadata": {},
   "outputs": [],
   "source": []
  }
 ],
 "metadata": {
  "kernelspec": {
   "display_name": "Python 3 (ipykernel)",
   "language": "python",
   "name": "python3"
  },
  "language_info": {
   "codemirror_mode": {
    "name": "ipython",
    "version": 3
   },
   "file_extension": ".py",
   "mimetype": "text/x-python",
   "name": "python",
   "nbconvert_exporter": "python",
   "pygments_lexer": "ipython3",
   "version": "3.10.4"
  }
 },
 "nbformat": 4,
 "nbformat_minor": 5
}
