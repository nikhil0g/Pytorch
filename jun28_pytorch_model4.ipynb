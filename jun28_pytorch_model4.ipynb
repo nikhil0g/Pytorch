{
 "cells": [
  {
   "cell_type": "markdown",
   "id": "4ea887ec",
   "metadata": {},
   "source": [
    "# with NN"
   ]
  },
  {
   "cell_type": "code",
   "execution_count": 1,
   "id": "ee95785a",
   "metadata": {},
   "outputs": [
    {
     "name": "stdout",
     "output_type": "stream",
     "text": [
      "4 1\n",
      "Prediction before training: f(5) = 2.642\n",
      "ephoch 1: w = 0.674, loss = 15.27531052\n",
      "ephoch 11: w = 1.574, loss = 0.48697749\n",
      "ephoch 21: w = 1.725, loss = 0.09902653\n",
      "ephoch 31: w = 1.756, loss = 0.08395869\n",
      "ephoch 41: w = 1.766, loss = 0.07883114\n",
      "ephoch 51: w = 1.774, loss = 0.07423659\n",
      "ephoch 61: w = 1.781, loss = 0.06991542\n",
      "ephoch 71: w = 1.787, loss = 0.06584603\n",
      "ephoch 81: w = 1.793, loss = 0.06201343\n",
      "ephoch 91: w = 1.799, loss = 0.05840387\n",
      "Prediction after training: f(5) = 9.598\n"
     ]
    },
    {
     "name": "stderr",
     "output_type": "stream",
     "text": [
      "/home/nikhil/anaconda3/envs/pytorch/lib/python3.10/site-packages/tqdm/auto.py:22: TqdmWarning: IProgress not found. Please update jupyter and ipywidgets. See https://ipywidgets.readthedocs.io/en/stable/user_install.html\n",
      "  from .autonotebook import tqdm as notebook_tqdm\n"
     ]
    }
   ],
   "source": [
    "# Design model(input, output size, forward pass)\n",
    "# construct loss and optimizer\n",
    "# training loop\n",
    "#    -forwoard pass: compute prediction\n",
    "#    -backward pass: gradients\n",
    "#    -update weights\n",
    "\n",
    "\n",
    "import torch\n",
    "import torch.nn as nn\n",
    "# f = w * x\n",
    "\n",
    "#f = 2 * x\n",
    "\n",
    "X = torch.tensor([[1],[2],[3],[4]], dtype=torch.float32)\n",
    "Y = torch.tensor([[2],[4],[6],[8]], dtype=torch.float32)\n",
    "\n",
    "X_test = torch.tensor([5], dtype=torch.float32)\n",
    "\n",
    "n_samples, n_features = X.shape\n",
    "print(n_samples,n_features)\n",
    "\n",
    "input_size = n_features\n",
    "output_size = n_features\n",
    "\n",
    "\n",
    "#model = nn.Linear(input_size,output_size)\n",
    "\n",
    "class LinearRegression(nn.Module):\n",
    "    \n",
    "    def __init__(self,input_dim,output_dim):\n",
    "        super(LineaRegression,self).__init__()\n",
    "        # define layers\n",
    "        self.lin = nn.Linear(input_dim,output_dim)\n",
    "        \n",
    "    def forward(self,x):\n",
    "        return self.lin(x)\n",
    "    \n",
    "model = nn.Linear(input_size,output_size)\n",
    "    \n",
    "    \n",
    "\n",
    "print(f'Prediction before training: f(5) = {model(X_test).item():.3f}') # predicting 5 so should give 10\n",
    "\n",
    "\n",
    "# training\n",
    "learning_rate = 0.01\n",
    "n_iters = 100\n",
    "\n",
    "loss = nn.MSELoss()\n",
    "optimizer = torch.optim.SGD(model.parameters(), lr=learning_rate)\n",
    "\n",
    "\n",
    "for ephoch in range(n_iters):\n",
    "    #prediction = forword pass\n",
    "    y_pred = model(X)\n",
    "    \n",
    "    #loss\n",
    "    l = loss(Y,y_pred)\n",
    "    \n",
    "    #gradients backward pass\n",
    "    l.backward()\n",
    "    \n",
    "    #update weights\n",
    "    optimizer.step()\n",
    "    \n",
    "    #zero gradients\n",
    "    optimizer.zero_grad()\n",
    "    \n",
    "    \n",
    "    if ephoch % 10 == 0:\n",
    "        [w,b] = model.parameters()\n",
    "        print(f'ephoch {ephoch+1}: w = {w[0][0].item():.3f}, loss = {l:.8f}')\n",
    "        \n",
    "print(f'Prediction after training: f(5) = {model(X_test).item():.3f}' )\n",
    "        \n",
    "        "
   ]
  },
  {
   "cell_type": "code",
   "execution_count": null,
   "id": "f82a813d",
   "metadata": {},
   "outputs": [],
   "source": []
  }
 ],
 "metadata": {
  "kernelspec": {
   "display_name": "Python 3 (ipykernel)",
   "language": "python",
   "name": "python3"
  },
  "language_info": {
   "codemirror_mode": {
    "name": "ipython",
    "version": 3
   },
   "file_extension": ".py",
   "mimetype": "text/x-python",
   "name": "python",
   "nbconvert_exporter": "python",
   "pygments_lexer": "ipython3",
   "version": "3.10.4"
  }
 },
 "nbformat": 4,
 "nbformat_minor": 5
}
