{
 "cells": [
  {
   "cell_type": "markdown",
   "id": "5c30fc6b",
   "metadata": {},
   "source": [
    "# Loading and normalizing datasets"
   ]
  },
  {
   "cell_type": "markdown",
   "id": "8dd5d415",
   "metadata": {},
   "source": [
    "## We load the FashionMNIST Dataset with the following parameters:\n",
    "\n",
    "### root is the path where the train/test data is stored,\n",
    "### train specifies training or test dataset,\n",
    "### download=True downloads the data from the Internet if it's not available at root.\n",
    "### transform and target_transform specify the feature and label transformations\n"
   ]
  },
  {
   "cell_type": "code",
   "execution_count": 1,
   "id": "2448e645",
   "metadata": {
    "scrolled": false
   },
   "outputs": [
    {
     "name": "stdout",
     "output_type": "stream",
     "text": [
      "Requirement already satisfied: ipywidgets in /home/nikhil/anaconda3/envs/deepl/lib/python3.6/site-packages (7.7.0)\n",
      "Requirement already satisfied: ipython-genutils~=0.2.0 in /home/nikhil/anaconda3/envs/deepl/lib/python3.6/site-packages (from ipywidgets) (0.2.0)\n",
      "Requirement already satisfied: ipython>=4.0.0 in /home/nikhil/anaconda3/envs/deepl/lib/python3.6/site-packages (from ipywidgets) (7.16.1)\n",
      "Requirement already satisfied: jupyterlab-widgets>=1.0.0 in /home/nikhil/anaconda3/envs/deepl/lib/python3.6/site-packages (from ipywidgets) (1.1.0)\n",
      "Requirement already satisfied: nbformat>=4.2.0 in /home/nikhil/anaconda3/envs/deepl/lib/python3.6/site-packages (from ipywidgets) (5.1.3)\n",
      "Requirement already satisfied: ipykernel>=4.5.1 in /home/nikhil/anaconda3/envs/deepl/lib/python3.6/site-packages (from ipywidgets) (5.3.4)\n",
      "Requirement already satisfied: traitlets>=4.3.1 in /home/nikhil/anaconda3/envs/deepl/lib/python3.6/site-packages (from ipywidgets) (4.3.3)\n",
      "Requirement already satisfied: widgetsnbextension~=3.6.0 in /home/nikhil/anaconda3/envs/deepl/lib/python3.6/site-packages (from ipywidgets) (3.6.0)\n",
      "Requirement already satisfied: tornado>=4.2 in /home/nikhil/anaconda3/envs/deepl/lib/python3.6/site-packages (from ipykernel>=4.5.1->ipywidgets) (6.1)\n",
      "Requirement already satisfied: jupyter-client in /home/nikhil/anaconda3/envs/deepl/lib/python3.6/site-packages (from ipykernel>=4.5.1->ipywidgets) (6.1.12)\n",
      "Requirement already satisfied: pexpect in /home/nikhil/anaconda3/envs/deepl/lib/python3.6/site-packages (from ipython>=4.0.0->ipywidgets) (4.8.0)\n",
      "Requirement already satisfied: decorator in /home/nikhil/anaconda3/envs/deepl/lib/python3.6/site-packages (from ipython>=4.0.0->ipywidgets) (5.0.9)\n",
      "Requirement already satisfied: pickleshare in /home/nikhil/anaconda3/envs/deepl/lib/python3.6/site-packages (from ipython>=4.0.0->ipywidgets) (0.7.5)\n",
      "Requirement already satisfied: backcall in /home/nikhil/anaconda3/envs/deepl/lib/python3.6/site-packages (from ipython>=4.0.0->ipywidgets) (0.2.0)\n",
      "Requirement already satisfied: jedi>=0.10 in /home/nikhil/anaconda3/envs/deepl/lib/python3.6/site-packages (from ipython>=4.0.0->ipywidgets) (0.17.2)\n",
      "Requirement already satisfied: pygments in /home/nikhil/anaconda3/envs/deepl/lib/python3.6/site-packages (from ipython>=4.0.0->ipywidgets) (2.9.0)\n",
      "Requirement already satisfied: prompt-toolkit!=3.0.0,!=3.0.1,<3.1.0,>=2.0.0 in /home/nikhil/anaconda3/envs/deepl/lib/python3.6/site-packages (from ipython>=4.0.0->ipywidgets) (3.0.17)\n",
      "Requirement already satisfied: setuptools>=18.5 in /home/nikhil/anaconda3/envs/deepl/lib/python3.6/site-packages (from ipython>=4.0.0->ipywidgets) (52.0.0.post20210125)\n",
      "Requirement already satisfied: jsonschema!=2.5.0,>=2.4 in /home/nikhil/anaconda3/envs/deepl/lib/python3.6/site-packages (from nbformat>=4.2.0->ipywidgets) (3.2.0)\n",
      "Requirement already satisfied: jupyter-core in /home/nikhil/anaconda3/envs/deepl/lib/python3.6/site-packages (from nbformat>=4.2.0->ipywidgets) (4.7.1)\n",
      "Requirement already satisfied: six in /home/nikhil/anaconda3/envs/deepl/lib/python3.6/site-packages (from traitlets>=4.3.1->ipywidgets) (1.15.0)\n",
      "Requirement already satisfied: notebook>=4.4.1 in /home/nikhil/anaconda3/envs/deepl/lib/python3.6/site-packages (from widgetsnbextension~=3.6.0->ipywidgets) (6.4.1)\n",
      "Requirement already satisfied: parso<0.8.0,>=0.7.0 in /home/nikhil/anaconda3/envs/deepl/lib/python3.6/site-packages (from jedi>=0.10->ipython>=4.0.0->ipywidgets) (0.7.1)\n",
      "Requirement already satisfied: attrs>=17.4.0 in /home/nikhil/anaconda3/envs/deepl/lib/python3.6/site-packages (from jsonschema!=2.5.0,>=2.4->nbformat>=4.2.0->ipywidgets) (21.2.0)\n",
      "Requirement already satisfied: pyrsistent>=0.14.0 in /home/nikhil/anaconda3/envs/deepl/lib/python3.6/site-packages (from jsonschema!=2.5.0,>=2.4->nbformat>=4.2.0->ipywidgets) (0.17.3)\n",
      "Requirement already satisfied: importlib-metadata in /home/nikhil/anaconda3/envs/deepl/lib/python3.6/site-packages (from jsonschema!=2.5.0,>=2.4->nbformat>=4.2.0->ipywidgets) (4.6.3)\n",
      "Requirement already satisfied: pyzmq>=17 in /home/nikhil/anaconda3/envs/deepl/lib/python3.6/site-packages (from notebook>=4.4.1->widgetsnbextension~=3.6.0->ipywidgets) (22.2.1)\n",
      "Requirement already satisfied: argon2-cffi in /home/nikhil/anaconda3/envs/deepl/lib/python3.6/site-packages (from notebook>=4.4.1->widgetsnbextension~=3.6.0->ipywidgets) (20.1.0)\n",
      "Requirement already satisfied: nbconvert in /home/nikhil/anaconda3/envs/deepl/lib/python3.6/site-packages (from notebook>=4.4.1->widgetsnbextension~=3.6.0->ipywidgets) (6.0.7)\n",
      "Requirement already satisfied: prometheus-client in /home/nikhil/anaconda3/envs/deepl/lib/python3.6/site-packages (from notebook>=4.4.1->widgetsnbextension~=3.6.0->ipywidgets) (0.11.0)\n",
      "Requirement already satisfied: Send2Trash>=1.5.0 in /home/nikhil/anaconda3/envs/deepl/lib/python3.6/site-packages (from notebook>=4.4.1->widgetsnbextension~=3.6.0->ipywidgets) (1.5.0)\n",
      "Requirement already satisfied: jinja2 in /home/nikhil/anaconda3/envs/deepl/lib/python3.6/site-packages (from notebook>=4.4.1->widgetsnbextension~=3.6.0->ipywidgets) (3.0.1)\n",
      "Requirement already satisfied: terminado>=0.8.3 in /home/nikhil/anaconda3/envs/deepl/lib/python3.6/site-packages (from notebook>=4.4.1->widgetsnbextension~=3.6.0->ipywidgets) (0.9.4)\n",
      "Requirement already satisfied: python-dateutil>=2.1 in /home/nikhil/anaconda3/envs/deepl/lib/python3.6/site-packages (from jupyter-client->ipykernel>=4.5.1->ipywidgets) (2.8.2)\n",
      "Requirement already satisfied: wcwidth in /home/nikhil/anaconda3/envs/deepl/lib/python3.6/site-packages (from prompt-toolkit!=3.0.0,!=3.0.1,<3.1.0,>=2.0.0->ipython>=4.0.0->ipywidgets) (0.2.5)\n",
      "Requirement already satisfied: ptyprocess>=0.5 in /home/nikhil/anaconda3/envs/deepl/lib/python3.6/site-packages (from pexpect->ipython>=4.0.0->ipywidgets) (0.7.0)\n",
      "Requirement already satisfied: cffi>=1.0.0 in /home/nikhil/anaconda3/envs/deepl/lib/python3.6/site-packages (from argon2-cffi->notebook>=4.4.1->widgetsnbextension~=3.6.0->ipywidgets) (1.14.6)\n",
      "Requirement already satisfied: zipp>=0.5 in /home/nikhil/anaconda3/envs/deepl/lib/python3.6/site-packages (from importlib-metadata->jsonschema!=2.5.0,>=2.4->nbformat>=4.2.0->ipywidgets) (3.5.0)\n",
      "Requirement already satisfied: typing-extensions>=3.6.4 in /home/nikhil/anaconda3/envs/deepl/lib/python3.6/site-packages (from importlib-metadata->jsonschema!=2.5.0,>=2.4->nbformat>=4.2.0->ipywidgets) (3.10.0.0)\n",
      "Requirement already satisfied: MarkupSafe>=2.0 in /home/nikhil/anaconda3/envs/deepl/lib/python3.6/site-packages (from jinja2->notebook>=4.4.1->widgetsnbextension~=3.6.0->ipywidgets) (2.0.1)\n",
      "Requirement already satisfied: pandocfilters>=1.4.1 in /home/nikhil/anaconda3/envs/deepl/lib/python3.6/site-packages (from nbconvert->notebook>=4.4.1->widgetsnbextension~=3.6.0->ipywidgets) (1.4.3)\n",
      "Requirement already satisfied: bleach in /home/nikhil/anaconda3/envs/deepl/lib/python3.6/site-packages (from nbconvert->notebook>=4.4.1->widgetsnbextension~=3.6.0->ipywidgets) (4.0.0)\n",
      "Requirement already satisfied: testpath in /home/nikhil/anaconda3/envs/deepl/lib/python3.6/site-packages (from nbconvert->notebook>=4.4.1->widgetsnbextension~=3.6.0->ipywidgets) (0.5.0)\n",
      "Requirement already satisfied: jupyterlab-pygments in /home/nikhil/anaconda3/envs/deepl/lib/python3.6/site-packages (from nbconvert->notebook>=4.4.1->widgetsnbextension~=3.6.0->ipywidgets) (0.1.2)\n",
      "Requirement already satisfied: mistune<2,>=0.8.1 in /home/nikhil/anaconda3/envs/deepl/lib/python3.6/site-packages (from nbconvert->notebook>=4.4.1->widgetsnbextension~=3.6.0->ipywidgets) (0.8.4)\n",
      "Requirement already satisfied: nbclient<0.6.0,>=0.5.0 in /home/nikhil/anaconda3/envs/deepl/lib/python3.6/site-packages (from nbconvert->notebook>=4.4.1->widgetsnbextension~=3.6.0->ipywidgets) (0.5.3)\n",
      "Requirement already satisfied: defusedxml in /home/nikhil/anaconda3/envs/deepl/lib/python3.6/site-packages (from nbconvert->notebook>=4.4.1->widgetsnbextension~=3.6.0->ipywidgets) (0.7.1)\n",
      "Requirement already satisfied: entrypoints>=0.2.2 in /home/nikhil/anaconda3/envs/deepl/lib/python3.6/site-packages (from nbconvert->notebook>=4.4.1->widgetsnbextension~=3.6.0->ipywidgets) (0.3)\n",
      "Requirement already satisfied: pycparser in /home/nikhil/anaconda3/envs/deepl/lib/python3.6/site-packages (from cffi>=1.0.0->argon2-cffi->notebook>=4.4.1->widgetsnbextension~=3.6.0->ipywidgets) (2.20)\n"
     ]
    },
    {
     "name": "stdout",
     "output_type": "stream",
     "text": [
      "Requirement already satisfied: async-generator in /home/nikhil/anaconda3/envs/deepl/lib/python3.6/site-packages (from nbclient<0.6.0,>=0.5.0->nbconvert->notebook>=4.4.1->widgetsnbextension~=3.6.0->ipywidgets) (1.10)\n",
      "Requirement already satisfied: nest-asyncio in /home/nikhil/anaconda3/envs/deepl/lib/python3.6/site-packages (from nbclient<0.6.0,>=0.5.0->nbconvert->notebook>=4.4.1->widgetsnbextension~=3.6.0->ipywidgets) (1.5.1)\n",
      "Requirement already satisfied: packaging in /home/nikhil/anaconda3/envs/deepl/lib/python3.6/site-packages (from bleach->nbconvert->notebook>=4.4.1->widgetsnbextension~=3.6.0->ipywidgets) (21.0)\n",
      "Requirement already satisfied: webencodings in /home/nikhil/anaconda3/envs/deepl/lib/python3.6/site-packages (from bleach->nbconvert->notebook>=4.4.1->widgetsnbextension~=3.6.0->ipywidgets) (0.5.1)\n",
      "Requirement already satisfied: pyparsing>=2.0.2 in /home/nikhil/anaconda3/envs/deepl/lib/python3.6/site-packages (from packaging->bleach->nbconvert->notebook>=4.4.1->widgetsnbextension~=3.6.0->ipywidgets) (2.4.7)\n"
     ]
    }
   ],
   "source": [
    "!pip install ipywidgets"
   ]
  },
  {
   "cell_type": "code",
   "execution_count": 2,
   "id": "952e2a35",
   "metadata": {},
   "outputs": [
    {
     "name": "stdout",
     "output_type": "stream",
     "text": [
      "Enabling notebook extension jupyter-js-widgets/extension...\r\n",
      "      - Validating: \u001b[32mOK\u001b[0m\r\n"
     ]
    }
   ],
   "source": [
    "!jupyter nbextension enable --py widgetsnbextension"
   ]
  },
  {
   "cell_type": "code",
   "execution_count": 3,
   "id": "b2cd00be",
   "metadata": {},
   "outputs": [
    {
     "name": "stdout",
     "output_type": "stream",
     "text": [
      "Downloading http://fashion-mnist.s3-website.eu-central-1.amazonaws.com/train-images-idx3-ubyte.gz\n",
      "Downloading http://fashion-mnist.s3-website.eu-central-1.amazonaws.com/train-images-idx3-ubyte.gz to data/FashionMNIST/raw/train-images-idx3-ubyte.gz\n"
     ]
    },
    {
     "data": {
      "application/vnd.jupyter.widget-view+json": {
       "model_id": "00e9bd0597544b439a6f489082ac8abd",
       "version_major": 2,
       "version_minor": 0
      },
      "text/plain": [
       "  0%|          | 0/26421880 [00:00<?, ?it/s]"
      ]
     },
     "metadata": {},
     "output_type": "display_data"
    },
    {
     "name": "stdout",
     "output_type": "stream",
     "text": [
      "Extracting data/FashionMNIST/raw/train-images-idx3-ubyte.gz to data/FashionMNIST/raw\n",
      "\n",
      "Downloading http://fashion-mnist.s3-website.eu-central-1.amazonaws.com/train-labels-idx1-ubyte.gz\n",
      "Downloading http://fashion-mnist.s3-website.eu-central-1.amazonaws.com/train-labels-idx1-ubyte.gz to data/FashionMNIST/raw/train-labels-idx1-ubyte.gz\n"
     ]
    },
    {
     "data": {
      "application/vnd.jupyter.widget-view+json": {
       "model_id": "726ce3e413ba4d08b2a33b3292bcd740",
       "version_major": 2,
       "version_minor": 0
      },
      "text/plain": [
       "  0%|          | 0/29515 [00:00<?, ?it/s]"
      ]
     },
     "metadata": {},
     "output_type": "display_data"
    },
    {
     "name": "stdout",
     "output_type": "stream",
     "text": [
      "Extracting data/FashionMNIST/raw/train-labels-idx1-ubyte.gz to data/FashionMNIST/raw\n",
      "\n",
      "Downloading http://fashion-mnist.s3-website.eu-central-1.amazonaws.com/t10k-images-idx3-ubyte.gz\n",
      "Downloading http://fashion-mnist.s3-website.eu-central-1.amazonaws.com/t10k-images-idx3-ubyte.gz to data/FashionMNIST/raw/t10k-images-idx3-ubyte.gz\n"
     ]
    },
    {
     "data": {
      "application/vnd.jupyter.widget-view+json": {
       "model_id": "19cbd688ec094144afaaa250b69dbca4",
       "version_major": 2,
       "version_minor": 0
      },
      "text/plain": [
       "  0%|          | 0/4422102 [00:00<?, ?it/s]"
      ]
     },
     "metadata": {},
     "output_type": "display_data"
    },
    {
     "name": "stdout",
     "output_type": "stream",
     "text": [
      "Extracting data/FashionMNIST/raw/t10k-images-idx3-ubyte.gz to data/FashionMNIST/raw\n",
      "\n",
      "Downloading http://fashion-mnist.s3-website.eu-central-1.amazonaws.com/t10k-labels-idx1-ubyte.gz\n",
      "Downloading http://fashion-mnist.s3-website.eu-central-1.amazonaws.com/t10k-labels-idx1-ubyte.gz to data/FashionMNIST/raw/t10k-labels-idx1-ubyte.gz\n"
     ]
    },
    {
     "data": {
      "application/vnd.jupyter.widget-view+json": {
       "model_id": "07b64c99d53641cdab0c29d05d32c900",
       "version_major": 2,
       "version_minor": 0
      },
      "text/plain": [
       "  0%|          | 0/5148 [00:00<?, ?it/s]"
      ]
     },
     "metadata": {},
     "output_type": "display_data"
    },
    {
     "name": "stdout",
     "output_type": "stream",
     "text": [
      "Extracting data/FashionMNIST/raw/t10k-labels-idx1-ubyte.gz to data/FashionMNIST/raw\n",
      "\n"
     ]
    }
   ],
   "source": [
    "%matplotlib inline\n",
    "import torch\n",
    "from torch.utils.data import Dataset\n",
    "from torchvision import datasets\n",
    "from torchvision.transforms import ToTensor, Lambda\n",
    "import matplotlib.pyplot as plt\n",
    "\n",
    "training_data = datasets.FashionMNIST(\n",
    "    root=\"data\",\n",
    "    train=True,\n",
    "    download=True,\n",
    "    transform=ToTensor()\n",
    ")\n",
    "\n",
    "test_data = datasets.FashionMNIST(\n",
    "    root=\"data\",\n",
    "    train=False,\n",
    "    download=True,\n",
    "    transform=ToTensor()\n",
    ")"
   ]
  },
  {
   "cell_type": "markdown",
   "id": "def24119",
   "metadata": {},
   "source": [
    "# Iterating and Visualizing the Dataset\n",
    "### We can index Datasets manually like a list: training_data[index]. \n",
    "### We use matplotlib to visualize some samples in our training data."
   ]
  },
  {
   "cell_type": "code",
   "execution_count": 4,
   "id": "738a5454",
   "metadata": {},
   "outputs": [
    {
     "data": {
      "image/png": "[encoded data removed]",
      "text/plain": [
       "<Figure size 576x576 with 9 Axes>"
      ]
     },
     "metadata": {
      "needs_background": "light"
     },
     "output_type": "display_data"
    }
   ],
   "source": [
    "labels_map = {\n",
    "    0: \"T-Shirt\",\n",
    "    1: \"Trouser\",\n",
    "    2: \"Pullover\",\n",
    "    3: \"Dress\",\n",
    "    4: \"Coat\",\n",
    "    5: \"Sandal\",\n",
    "    6: \"Shirt\",\n",
    "    7: \"Sneaker\",\n",
    "    8: \"Bag\",\n",
    "    9: \"Ankle Boot\",\n",
    "}\n",
    "figure = plt.figure(figsize=(8, 8))\n",
    "cols, rows = 3, 3\n",
    "for i in range(1, cols * rows + 1):\n",
    "    sample_idx = torch.randint(len(training_data), size=(1,)).item()\n",
    "    img, label = training_data[sample_idx]\n",
    "    figure.add_subplot(rows, cols, i)\n",
    "    plt.title(labels_map[label])\n",
    "    plt.axis(\"off\")\n",
    "    plt.imshow(img.squeeze(), cmap=\"gray\")\n",
    "plt.show()"
   ]
  },
  {
   "cell_type": "markdown",
   "id": "88e3f6c4",
   "metadata": {},
   "source": [
    "# Preparing your data for training with DataLoaders\n"
   ]
  },
  {
   "cell_type": "markdown",
   "id": "5d9107ea",
   "metadata": {},
   "source": [
    "### data the training data that will be used to train the model; and test data to evaluate the model\n",
    "### batch size the number of records to be processed in each batch\n",
    "### shuffle the randoms sample of the data by indices"
   ]
  },
  {
   "cell_type": "code",
   "execution_count": 5,
   "id": "8d49b5c9",
   "metadata": {},
   "outputs": [],
   "source": [
    "from torch.utils.data import DataLoader\n",
    "\n",
    "train_dataloader = DataLoader(training_data, batch_size=64, shuffle=True)\n",
    "test_dataloader = DataLoader(test_data, batch_size=64, shuffle=True)"
   ]
  },
  {
   "cell_type": "markdown",
   "id": "eb05e663",
   "metadata": {},
   "source": [
    "# Iterate through the DataLoader\n"
   ]
  },
  {
   "cell_type": "code",
   "execution_count": 6,
   "id": "64aef8b4",
   "metadata": {},
   "outputs": [
    {
     "name": "stdout",
     "output_type": "stream",
     "text": [
      "Feature batch shape: torch.Size([64, 1, 28, 28])\n",
      "Labels batch shape: torch.Size([64])\n"
     ]
    },
    {
     "data": {
      "image/png": "[encoded data removed]",
      "text/plain": [
       "<Figure size 432x288 with 1 Axes>"
      ]
     },
     "metadata": {
      "needs_background": "light"
     },
     "output_type": "display_data"
    },
    {
     "name": "stdout",
     "output_type": "stream",
     "text": [
      "Label: 1\n"
     ]
    }
   ],
   "source": [
    "# Display image and label.\n",
    "train_features, train_labels = next(iter(train_dataloader))\n",
    "print(f\"Feature batch shape: {train_features.size()}\")\n",
    "print(f\"Labels batch shape: {train_labels.size()}\")\n",
    "img = train_features[0].squeeze()\n",
    "label = train_labels[0]\n",
    "plt.imshow(img, cmap=\"gray\")\n",
    "plt.show()\n",
    "print(f\"Label: {label}\")"
   ]
  },
  {
   "cell_type": "markdown",
   "id": "1c7a9ae6",
   "metadata": {},
   "source": [
    "# Normalization"
   ]
  },
  {
   "cell_type": "markdown",
   "id": "3cbd61f8",
   "metadata": {},
   "source": [
    "#### Normalization is a common data pre-processing technique that is applied to scale or transform the data \n",
    "#### to make sure there's an equal learning contribution from each feature.\n",
    "#### For example, each pixel in the grayscale images have a value between 0 and 255, which are features.\n",
    "#### If one pixel value is 17 and another pixel is 197. \n",
    "#### There will be an uneven distribution of the pixel importance, because the higher pixel volumes will \n",
    "#### deviate the learning. Normalization changes the range of your data, \n",
    "#### without distorting its distintion among out feature. This pre-processing is to avoid:\n",
    "\n",
    "### A reduction of the prediction accuracy\n",
    "### Difficulty for the model to learn\n",
    "### Unfavorable distribution of the feature data ranges"
   ]
  },
  {
   "cell_type": "markdown",
   "id": "7f87057d",
   "metadata": {},
   "source": [
    "# Transforms\n",
    "### Data does not always come in its final processed form that is required for training machine learning\n",
    "### algorithms. We use transforms to perform some manipulation of the data and make it suitable for training.\n",
    "\n",
    "### All TorchVision datasets have two parameters (transform to modify the features and target_transform to \n",
    "### modify the labels) that accept callables containing the transformation logic.\n",
    "### The torchvision.transforms module offers several commonly-used transforms out of the box.\n",
    "\n",
    "### The FashionMNIST features are in PIL Image format, and the labels are integers. \n",
    "### For training, we need the features as normalized tensors, and the labels as one-hot encoded tensors. \n",
    "### To make these transformations, we use ToTensor and Lambda."
   ]
  },
  {
   "cell_type": "code",
   "execution_count": 7,
   "id": "c2c9fe60",
   "metadata": {},
   "outputs": [],
   "source": [
    "from torchvision import datasets\n",
    "from torchvision.transforms import ToTensor, Lambda\n",
    "\n",
    "ds = datasets.FashionMNIST(\n",
    "    root=\"data\",\n",
    "    train=True,\n",
    "    download=True,\n",
    "    transform=ToTensor(),\n",
    "    target_transform=Lambda(lambda y: torch.zeros(10, dtype=torch.float).scatter_(0, torch.tensor(y), value=1))\n",
    ")"
   ]
  },
  {
   "cell_type": "markdown",
   "id": "ebc5061c",
   "metadata": {},
   "source": [
    "# ToTensor()\n",
    "### ToTensor converts a PIL image or NumPy ndarray into a FloatTensor and scales the image's pixel intensity \n",
    "### values in the range [0., 1.]\n",
    "\n"
   ]
  },
  {
   "cell_type": "markdown",
   "id": "45304192",
   "metadata": {},
   "source": [
    "# Lambda transforms\n",
    "### Lambda transforms apply any user-defined lambda function. Here, we define a function to turn the integer\n",
    "### into a one-hot encoded tensor. It first creates a zero tensor of size 10 (the number of labels in our \n",
    "### dataset) and calls scatter which assigns a value=1 on the index as given by the label y. \n",
    "### You can also use torch.nn.functional.one_hot as another option to do that."
   ]
  },
  {
   "cell_type": "code",
   "execution_count": 8,
   "id": "caea5718",
   "metadata": {},
   "outputs": [],
   "source": [
    "target_transform = Lambda(lambda y: torch.zeros(\n",
    "    10, dtype=torch.float).scatter_(dim=0, index=torch.tensor(y), value=1))"
   ]
  },
  {
   "cell_type": "code",
   "execution_count": null,
   "id": "d08b1637",
   "metadata": {},
   "outputs": [],
   "source": []
  }
 ],
 "metadata": {
  "kernelspec": {
   "display_name": "Python 3",
   "language": "python",
   "name": "python3"
  },
  "language_info": {
   "codemirror_mode": {
    "name": "ipython",
    "version": 3
   },
   "file_extension": ".py",
   "mimetype": "text/x-python",
   "name": "python",
   "nbconvert_exporter": "python",
   "pygments_lexer": "ipython3",
   "version": "3.6.13"
  }
 },
 "nbformat": 4,
 "nbformat_minor": 5
}
