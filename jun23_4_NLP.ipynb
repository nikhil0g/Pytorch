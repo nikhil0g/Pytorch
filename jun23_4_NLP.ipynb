{
 "cells": [
  {
   "cell_type": "markdown",
   "id": "9b05f794",
   "metadata": {},
   "source": [
    "# Representing text\n",
    "### If we want to solve Natural Language Processing (NLP) tasks with neural networks, we need some way to represent text as tensors. Computers already represent textual characters as numbers that map to fonts on your screen using encodings such as ASCII or UTF-8.\n",
    "\n"
   ]
  },
  {
   "cell_type": "markdown",
   "id": "9a6d7cf8",
   "metadata": {},
   "source": [
    "### We understand what each letter represents, and how all characters come together to form the words of a sentence. However, computers by themselves do not have such an understanding, and a neural network has to learn the meaning during training.\n",
    "\n",
    "### Therefore, we can use different approaches when representing text:\n",
    "\n",
    "### Character-level representation, when we represent text by treating each character as a number. Given that we have  C different characters in our text corpus, the word Hello would be represented by   5 * C tensor. Each letter would correspond to a tensor column in one-hot encoding. Word-level representation, when we create a vocabulary of all words in our text sequence or sentence(s), and then represent each word using one-hot encoding. This approach is somehow better, because each letter by itself does not have much meaning, and thus by using higher-level semantic concepts - words - we simplify the task for the neural network. However, given a large dictionary size, we need to deal with high-dimensional sparse tensors. For example, if we have a vocabulary size of 10,000 different words. Then each word would have an one-hot encoding length of 10,000; hence the high-dimensional. to unify those approaches, we typically call an atomic piece of text a token. In some cases tokens can be letters, in other cases - words, or parts of words.\n",
    "\n",
    "### For example, we can choose to tokenize indivisible as in-divis-ible, where the # sign represents that the token is a continuation of the previous word. This would allow the root divis to always be represented by one token, corresponding to one core meaning.The process of converting text into a sequence of tokens is called tokenization. Next, we need to assign each token to a number, which we can feed into a neural network. This is called vectorization, and is normally done by building a token vocabulary.\n",
    "\n",
    "### Let's start by installing some required Python packages we'll use in this module."
   ]
  },
  {
   "cell_type": "code",
   "execution_count": null,
   "id": "fef88a63",
   "metadata": {
    "scrolled": true
   },
   "outputs": [],
   "source": [
    "#!pip install -r https://raw.githubusercontent.com/MicrosoftDocs/pytorchfundamentals/main/nlp-pytorch/requirements.txt"
   ]
  },
  {
   "cell_type": "code",
   "execution_count": null,
   "id": "73874420",
   "metadata": {},
   "outputs": [],
   "source": [
    "#!pip install opencv-python"
   ]
  },
  {
   "cell_type": "markdown",
   "id": "6e991d5b",
   "metadata": {},
   "source": [
    "# Text classification task\n",
    "### In this module, we will start with a simple text classification task based on AG_NEWS sample dataset, which is to classify news headlines into one of 4 categories: World, Sports, Business and Sci/Tech. This dataset is built from PyTorch's torchtext module, so we can easily access it."
   ]
  },
  {
   "cell_type": "code",
   "execution_count": 2,
   "id": "2ffbb2cb",
   "metadata": {},
   "outputs": [
    {
     "data": {
      "text/plain": [
       "'1.11.0+cu102'"
      ]
     },
     "execution_count": 2,
     "metadata": {},
     "output_type": "execute_result"
    }
   ],
   "source": [
    "torch. __version__"
   ]
  },
  {
   "cell_type": "code",
   "execution_count": 9,
   "id": "1a121427",
   "metadata": {},
   "outputs": [
    {
     "name": "stdout",
     "output_type": "stream",
     "text": [
      "Collecting torchtext\n",
      "  Downloading torchtext-0.12.0-cp310-cp310-manylinux1_x86_64.whl (10.4 MB)\n",
      "\u001b[K     |████████████████████████████████| 10.4 MB 443 kB/s eta 0:00:01\n",
      "\u001b[?25hRequirement already satisfied: numpy in /home/nikhil/anaconda3/envs/pytorch/lib/python3.10/site-packages (from torchtext) (1.23.0)\n",
      "Collecting tqdm\n",
      "  Downloading tqdm-4.64.0-py2.py3-none-any.whl (78 kB)\n",
      "\u001b[K     |████████████████████████████████| 78 kB 435 kB/s eta 0:00:01\n",
      "\u001b[?25hRequirement already satisfied: torch==1.11.0 in /home/nikhil/anaconda3/envs/pytorch/lib/python3.10/site-packages (from torchtext) (1.11.0)\n",
      "Requirement already satisfied: requests in /home/nikhil/anaconda3/envs/pytorch/lib/python3.10/site-packages (from torchtext) (2.28.0)\n",
      "Requirement already satisfied: typing-extensions in /home/nikhil/anaconda3/envs/pytorch/lib/python3.10/site-packages (from torch==1.11.0->torchtext) (4.1.1)\n",
      "Requirement already satisfied: idna<4,>=2.5 in /home/nikhil/anaconda3/envs/pytorch/lib/python3.10/site-packages (from requests->torchtext) (3.3)\n",
      "Requirement already satisfied: charset-normalizer~=2.0.0 in /home/nikhil/anaconda3/envs/pytorch/lib/python3.10/site-packages (from requests->torchtext) (2.0.12)\n",
      "Requirement already satisfied: certifi>=2017.4.17 in /home/nikhil/anaconda3/envs/pytorch/lib/python3.10/site-packages (from requests->torchtext) (2022.6.15)\n",
      "Requirement already satisfied: urllib3<1.27,>=1.21.1 in /home/nikhil/anaconda3/envs/pytorch/lib/python3.10/site-packages (from requests->torchtext) (1.26.9)\n",
      "Installing collected packages: tqdm, torchtext\n",
      "Successfully installed torchtext-0.12.0 tqdm-4.64.0\n"
     ]
    }
   ],
   "source": [
    "!pip install torchtext"
   ]
  },
  {
   "cell_type": "code",
   "execution_count": 11,
   "id": "8daef029",
   "metadata": {},
   "outputs": [
    {
     "name": "stdout",
     "output_type": "stream",
     "text": [
      "Collecting torchdata\n",
      "  Downloading torchdata-0.3.0-py3-none-any.whl (47 kB)\n",
      "\u001b[K     |████████████████████████████████| 47 kB 127 kB/s eta 0:00:01\n",
      "\u001b[?25hRequirement already satisfied: requests in /home/nikhil/anaconda3/envs/pytorch/lib/python3.10/site-packages (from torchdata) (2.28.0)\n",
      "Requirement already satisfied: torch==1.11.0 in /home/nikhil/anaconda3/envs/pytorch/lib/python3.10/site-packages (from torchdata) (1.11.0)\n",
      "Requirement already satisfied: urllib3>=1.25 in /home/nikhil/anaconda3/envs/pytorch/lib/python3.10/site-packages (from torchdata) (1.26.9)\n",
      "Requirement already satisfied: typing-extensions in /home/nikhil/anaconda3/envs/pytorch/lib/python3.10/site-packages (from torch==1.11.0->torchdata) (4.1.1)\n",
      "Requirement already satisfied: charset-normalizer~=2.0.0 in /home/nikhil/anaconda3/envs/pytorch/lib/python3.10/site-packages (from requests->torchdata) (2.0.12)\n",
      "Requirement already satisfied: certifi>=2017.4.17 in /home/nikhil/anaconda3/envs/pytorch/lib/python3.10/site-packages (from requests->torchdata) (2022.6.15)\n",
      "Requirement already satisfied: idna<4,>=2.5 in /home/nikhil/anaconda3/envs/pytorch/lib/python3.10/site-packages (from requests->torchdata) (3.3)\n",
      "Installing collected packages: torchdata\n",
      "Successfully installed torchdata-0.3.0\n"
     ]
    }
   ],
   "source": [
    "!pip install torchdata"
   ]
  },
  {
   "cell_type": "code",
   "execution_count": 2,
   "id": "843be100",
   "metadata": {},
   "outputs": [],
   "source": [
    "import torch\n",
    "import torchtext\n",
    "import os\n",
    "import collections\n",
    "os.makedirs('./data',exist_ok=True)\n",
    "train_dataset, test_dataset = torchtext.datasets.AG_NEWS(root='./data')\n",
    "classes = ['World', 'Sports', 'Business', 'Sci/Tech']"
   ]
  },
  {
   "cell_type": "markdown",
   "id": "4975a118",
   "metadata": {},
   "source": [
    "### Here, train_dataset and test_dataset contain iterators that return pairs of label (number of class) and text respectively, for example:"
   ]
  },
  {
   "cell_type": "code",
   "execution_count": 3,
   "id": "986a96fc",
   "metadata": {},
   "outputs": [
    {
     "ename": "TypeError",
     "evalue": "'MapperIterDataPipe' object is not an iterator",
     "output_type": "error",
     "traceback": [
      "\u001b[0;31m---------------------------------------------------------------------------\u001b[0m",
      "\u001b[0;31mTypeError\u001b[0m                                 Traceback (most recent call last)",
      "Input \u001b[0;32mIn [3]\u001b[0m, in \u001b[0;36m<cell line: 1>\u001b[0;34m()\u001b[0m\n\u001b[0;32m----> 1\u001b[0m \u001b[38;5;28;43mnext\u001b[39;49m\u001b[43m(\u001b[49m\u001b[43mtrain_dataset\u001b[49m\u001b[43m)\u001b[49m\n",
      "\u001b[0;31mTypeError\u001b[0m: 'MapperIterDataPipe' object is not an iterator"
     ]
    }
   ],
   "source": [
    "next(train_dataset)"
   ]
  },
  {
   "cell_type": "markdown",
   "id": "cc520d8b",
   "metadata": {},
   "source": [
    "### So, let's print out the first 5 new headlines from our dataset:"
   ]
  },
  {
   "cell_type": "code",
   "execution_count": 4,
   "id": "63a9bc5f",
   "metadata": {},
   "outputs": [
    {
     "name": "stdout",
     "output_type": "stream",
     "text": [
      "**Sci/Tech** -> Wall St. Bears Claw Back Into the Black (Reuters) Reuters - Short-sellers, Wall Street's dwindling\\band of ultra-cynics, are seeing green again.\n",
      "\n",
      "**Sci/Tech** -> Carlyle Looks Toward Commercial Aerospace (Reuters) Reuters - Private investment firm Carlyle Group,\\which has a reputation for making well-timed and occasionally\\controversial plays in the defense industry, has quietly placed\\its bets on another part of the market.\n",
      "\n",
      "**Sci/Tech** -> Oil and Economy Cloud Stocks' Outlook (Reuters) Reuters - Soaring crude prices plus worries\\about the economy and the outlook for earnings are expected to\\hang over the stock market next week during the depth of the\\summer doldrums.\n",
      "\n",
      "**Sci/Tech** -> Iraq Halts Oil Exports from Main Southern Pipeline (Reuters) Reuters - Authorities have halted oil export\\flows from the main pipeline in southern Iraq after\\intelligence showed a rebel militia could strike\\infrastructure, an oil official said on Saturday.\n",
      "\n",
      "**Sci/Tech** -> Oil prices soar to all-time record, posing new menace to US economy (AFP) AFP - Tearaway world oil prices, toppling records and straining wallets, present a new economic menace barely three months before the US presidential elections.\n",
      "\n"
     ]
    }
   ],
   "source": [
    "for i,x in zip(range(5),train_dataset):\n",
    "    print(f\"**{classes[x[0]]}** -> {x[1]}\\n\")"
   ]
  },
  {
   "cell_type": "markdown",
   "id": "fcd3e71c",
   "metadata": {},
   "source": [
    "### Because datasets are iterators, if we want to use the data multiple times we need to convert it to a list:"
   ]
  },
  {
   "cell_type": "code",
   "execution_count": 6,
   "id": "98131001",
   "metadata": {},
   "outputs": [],
   "source": [
    "train_dataset, test_dataset = torchtext.datasets.AG_NEWS(root='./data')\n",
    "train_dataset = list(train_dataset)\n",
    "test_dataset = list(test_dataset)"
   ]
  },
  {
   "cell_type": "markdown",
   "id": "bafa1557",
   "metadata": {},
   "source": [
    "## Tokenization and Vectorization\n",
    "### Now we need to convert text into numbers that can be represented as tensors to feed them into a neural network. The first step is to convert text to tokens - tokenization. If we use word-level representation, each word would be represented by its own token. We will use build-in tokenizer from torchtext module:"
   ]
  },
  {
   "cell_type": "code",
   "execution_count": 7,
   "id": "b024c190",
   "metadata": {},
   "outputs": [],
   "source": [
    "tokenizer = torchtext.data.utils.get_tokenizer('basic_english')"
   ]
  },
  {
   "cell_type": "markdown",
   "id": "499f267c",
   "metadata": {},
   "source": [
    "### We'll use PyTorch's tokenizer to split words and spaces in the first 2 news articles. In our case, we use basic_english for the tokenizer to understand the language structure. This will return a string list of the text and characters.\n",
    "\n"
   ]
  },
  {
   "cell_type": "code",
   "execution_count": 8,
   "id": "af1a54bf",
   "metadata": {},
   "outputs": [
    {
     "name": "stdout",
     "output_type": "stream",
     "text": [
      "\n",
      "first token list:\n",
      "['wall', 'st', '.', 'bears', 'claw', 'back', 'into', 'the', 'black', '(', 'reuters', ')', 'reuters', '-', 'short-sellers', ',', 'wall', 'street', \"'\", 's', 'dwindling\\\\band', 'of', 'ultra-cynics', ',', 'are', 'seeing', 'green', 'again', '.']\n",
      "\n",
      "second token list:\n",
      "['carlyle', 'looks', 'toward', 'commercial', 'aerospace', '(', 'reuters', ')', 'reuters', '-', 'private', 'investment', 'firm', 'carlyle', 'group', ',', '\\\\which', 'has', 'a', 'reputation', 'for', 'making', 'well-timed', 'and', 'occasionally\\\\controversial', 'plays', 'in', 'the', 'defense', 'industry', ',', 'has', 'quietly', 'placed\\\\its', 'bets', 'on', 'another', 'part', 'of', 'the', 'market', '.']\n"
     ]
    }
   ],
   "source": [
    "first_sentence = train_dataset[0][1]\n",
    "second_sentence = train_dataset[1][1]\n",
    "\n",
    "f_tokens = tokenizer(first_sentence)\n",
    "s_tokens = tokenizer(second_sentence)\n",
    "\n",
    "print(f'\\nfirst token list:\\n{f_tokens}')\n",
    "print(f'\\nsecond token list:\\n{s_tokens}')"
   ]
  },
  {
   "cell_type": "markdown",
   "id": "fb6bdc68",
   "metadata": {},
   "source": [
    "### Next, to convert text to numbers, we will need to build a vocabulary of all tokens. We first build the dictionary using the Counter object, and then create a Vocab object that would help us deal with vectorization:\n",
    "\n"
   ]
  },
  {
   "cell_type": "code",
   "execution_count": 10,
   "id": "0fda95d6",
   "metadata": {},
   "outputs": [],
   "source": [
    "counter = collections.Counter()\n",
    "for (label, line) in train_dataset:\n",
    "    counter.update(tokenizer(line))\n",
    "vocab = torchtext.vocab.Vocab(counter)"
   ]
  },
  {
   "cell_type": "markdown",
   "id": "1aa17912",
   "metadata": {},
   "source": [
    "### To see how each word maps to the vocabulary, we'll loop through each word in the list to lookup it's index number in vocab. Each word or character is displayed with it's corresponding index. For example, word 'the' appears several times in both sentence and it's unique index in the vocab is the number 3."
   ]
  },
  {
   "cell_type": "code",
   "execution_count": 11,
   "id": "ccd5daed",
   "metadata": {},
   "outputs": [
    {
     "name": "stdout",
     "output_type": "stream",
     "text": [
      "\n",
      "Index lockup in 1st sentence:\n",
      "[[1395, 'wall'], [1409, 'st'], [225971, '.'], [399, 'bears'], [17, 'claw'], [4123, 'back'], [6637, 'into'], [203843, 'the'], [761, 'black'], [41106, '('], [19310, 'reuters'], [40787, ')'], [19310, 'reuters'], [39206, '-'], [2, 'short-sellers'], [165685, ','], [1395, 'wall'], [1581, 'street'], [32235, \"'\"], [61724, 's'], [1, 'dwindling\\\\band'], [97909, 'of'], [2, 'ultra-cynics'], [165685, ','], [9723, 'are'], [135, 'seeing'], [828, 'green'], [1758, 'again'], [225971, '.']]\n",
      "\n",
      "Index lockup in 2nd sentence:\n",
      "[[15, 'carlyle'], [600, 'looks'], [758, 'toward'], [490, 'commercial'], [124, 'aerospace'], [41106, '('], [19310, 'reuters'], [40787, ')'], [19310, 'reuters'], [39206, '-'], [696, 'private'], [809, 'investment'], [1776, 'firm'], [15, 'carlyle'], [4676, 'group'], [165685, ','], [5, '\\\\which'], [18945, 'has'], [110153, 'a'], [117, 'reputation'], [50186, 'for'], [1114, 'making'], [2, 'well-timed'], [68872, 'and'], [1, 'occasionally\\\\controversial'], [296, 'plays'], [95488, 'in'], [203843, 'the'], [1192, 'defense'], [2264, 'industry'], [165685, ','], [18945, 'has'], [140, 'quietly'], [1, 'placed\\\\its'], [66, 'bets'], [56529, 'on'], [2508, 'another'], [1636, 'part'], [97909, 'of'], [203843, 'the'], [3637, 'market'], [225971, '.']]\n"
     ]
    }
   ],
   "source": [
    "word_lookup = [list((vocab[w], w)) for w in f_tokens]\n",
    "print(f'\\nIndex lockup in 1st sentence:\\n{word_lookup}')\n",
    "\n",
    "word_lookup = [list((vocab[w], w)) for w in s_tokens]\n",
    "print(f'\\nIndex lockup in 2nd sentence:\\n{word_lookup}')"
   ]
  },
  {
   "cell_type": "markdown",
   "id": "0fc0fe3b",
   "metadata": {},
   "source": [
    "### Using vocabulary, we can easily encode our tokenized string into a set of numbers. Let's use the first news article as an example:"
   ]
  },
  {
   "cell_type": "code",
   "execution_count": 34,
   "id": "92a5e952",
   "metadata": {},
   "outputs": [
    {
     "name": "stdout",
     "output_type": "stream",
     "text": [
      "Vocab size of 95810\n",
      "[1395, 1409, 225971, 399, 17, 4123, 6637, 203843, 761, 41106, 19310, 40787, 19310, 39206, 2, 165685, 1395, 1581, 32235, 61724, 1, 97909, 2, 165685, 9723, 135, 828, 1758, 225971]\n"
     ]
    }
   ],
   "source": [
    "vocab_size = len(vocab)\n",
    "print(f\"Vocab size of {vocab_size}\")\n",
    "\n",
    "def encode(x):\n",
    "    return [vocab[s] for s in tokenizer(x)]\n",
    "\n",
    "vec = encode(first_sentence)\n",
    "print(vec)"
   ]
  },
  {
   "cell_type": "markdown",
   "id": "e04f13d9",
   "metadata": {},
   "source": [
    "### In this code, the torchtext vocab.stoi(it does not work thats why i removed it) dictionary allows us to convert from a string representation into numbers (the name stoi stands for \"from string to integers). To convert the text back from a numeric representation into text, we can use the vocab.itos dictionary to perform reverse lookup:"
   ]
  },
  {
   "cell_type": "code",
   "execution_count": 23,
   "id": "c5f4237c",
   "metadata": {},
   "outputs": [
    {
     "data": {
      "text/plain": [
       "[0,\n",
       " 0,\n",
       " 0,\n",
       " 0,\n",
       " 0,\n",
       " 0,\n",
       " 0,\n",
       " 0,\n",
       " 0,\n",
       " 0,\n",
       " 0,\n",
       " 0,\n",
       " 0,\n",
       " 0,\n",
       " 0,\n",
       " 0,\n",
       " 0,\n",
       " 0,\n",
       " 0,\n",
       " 0,\n",
       " 0,\n",
       " 0,\n",
       " 0,\n",
       " 0,\n",
       " 0,\n",
       " 0,\n",
       " 0,\n",
       " 0,\n",
       " 0]"
      ]
     },
     "execution_count": 23,
     "metadata": {},
     "output_type": "execute_result"
    }
   ],
   "source": [
    "def decode(x):\n",
    "    return [vocab[i] for i in x]\n",
    "\n",
    "decode(vec)"
   ]
  },
  {
   "cell_type": "markdown",
   "id": "26949965",
   "metadata": {},
   "source": [
    "## BiGrams, TriGrams and N-Grams\n",
    "### One limitation of word tokenization is that some words are part of multi word expressions, for example, the word 'hot dog' has a completely different meaning than the words 'hot' and 'dog' in other contexts. If we represent words 'hot` and 'dog' always by the same vectors, it can confuse the model.\n",
    "\n",
    "### To address this, N-gram representations are sometimes used in document classification, where the frequency of each word, bi-word or tri-word is a useful feature for training classifiers.\n",
    "\n",
    "### In bigram representation, for example, we will add all word pairs to the vocabulary, in addition to original words.\n",
    "### To get n-gram representation, we can use ngrams_iterator function that will convert the sequence of tokens to the sequence of n-grams. In the code below, we will build bigram vocabulary from our news dataset:"
   ]
  },
  {
   "cell_type": "code",
   "execution_count": 36,
   "id": "c900d86b",
   "metadata": {},
   "outputs": [
    {
     "name": "stdout",
     "output_type": "stream",
     "text": [
      "Bigram vocab size = 1308842\n"
     ]
    }
   ],
   "source": [
    "from torchtext.data.utils import ngrams_iterator\n",
    "\n",
    "bi_counter = collections.Counter()\n",
    "for (label, line) in train_dataset:\n",
    "    bi_counter.update(ngrams_iterator(tokenizer(line),ngrams=2))\n",
    "bi_vocab = torchtext.vocab.Vocab(bi_counter)\n",
    "\n",
    "print(f\"Bigram vocab size = {len(bi_vocab)}\")"
   ]
  },
  {
   "cell_type": "code",
   "execution_count": 38,
   "id": "054022a6",
   "metadata": {},
   "outputs": [
    {
     "data": {
      "text/plain": [
       "[1395,\n",
       " 1409,\n",
       " 225971,\n",
       " 399,\n",
       " 17,\n",
       " 4123,\n",
       " 6637,\n",
       " 203843,\n",
       " 761,\n",
       " 41106,\n",
       " 19310,\n",
       " 40787,\n",
       " 19310,\n",
       " 39206,\n",
       " 2,\n",
       " 165685,\n",
       " 1395,\n",
       " 1581,\n",
       " 32235,\n",
       " 61724,\n",
       " 1,\n",
       " 97909,\n",
       " 2,\n",
       " 165685,\n",
       " 9723,\n",
       " 135,\n",
       " 828,\n",
       " 1758,\n",
       " 225971]"
      ]
     },
     "execution_count": 38,
     "metadata": {},
     "output_type": "execute_result"
    }
   ],
   "source": [
    "def encode(x):\n",
    "    return [bi_vocab[s] for s in tokenizer(x)]\n",
    "\n",
    "encode(first_sentence)"
   ]
  },
  {
   "cell_type": "markdown",
   "id": "10b81b5a",
   "metadata": {},
   "source": [
    "### The main drawback of N-gram approach is that vocabulary size starts to grow extremely fast. Here we specify min_freq(It does not work ) flag to Vocab constructor in order to avoid those tokens that appear in the text only once. We can also increase min_freq even further, because infrequent words/phrases usually have little effect on the accuracy of classification.\n",
    "\n",
    "### Note: Try setting set min_freq parameter to a higher value, and observe the length of vocabulary change.\n",
    "### In practice, n-gram vocabulary size is still too high to represent words as one-hot vectors, and thus we need to combine this representation with some dimensionality reduction techniques, such as embeddings, which we will discuss in a later unit."
   ]
  },
  {
   "cell_type": "code",
   "execution_count": null,
   "id": "f041948f",
   "metadata": {},
   "outputs": [],
   "source": []
  }
 ],
 "metadata": {
  "kernelspec": {
   "display_name": "Python 3 (ipykernel)",
   "language": "python",
   "name": "python3"
  },
  "language_info": {
   "codemirror_mode": {
    "name": "ipython",
    "version": 3
   },
   "file_extension": ".py",
   "mimetype": "text/x-python",
   "name": "python",
   "nbconvert_exporter": "python",
   "pygments_lexer": "ipython3",
   "version": "3.10.4"
  }
 },
 "nbformat": 4,
 "nbformat_minor": 5
}
