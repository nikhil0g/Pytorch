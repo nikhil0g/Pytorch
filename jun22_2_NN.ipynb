{
 "cells": [
  {
   "cell_type": "markdown",
   "id": "f167290d",
   "metadata": {},
   "source": [
    "# What is a neural network\n",
    "### Neural network is a collection of neurons that are connected by layers. \n",
    "### Each neuron is a small computing unit that performs simple calculations to collectively solve a problem.\n",
    "### They are organized in layers. There are 3 types of layers: input layer, hidden layer and outter layer.\n",
    "### Each layer contains a number of neurons, except for the input layer. \n",
    "### Neural networks mimic the way a human brain processes information.\n",
    "\n"
   ]
  },
  {
   "cell_type": "markdown",
   "id": "6033dd1b",
   "metadata": {},
   "source": [
    "# Components of a neural network\n",
    "### Activation function determines whether a neuron should be activated or not. \n",
    "### The computations that happen in a neural network include applying an activation function.\n",
    "### If a neuron activates, then it means the input is important. The are different kinds of activation \n",
    "### functions. The choice of which activation function to use depends on what you want the output to be. \n",
    "### Another important role of an activation function is to add non-linearity to the model.\n",
    "### Binary used to set an output node to 1 if function result is positive and 0 \n",
    "### if the function result is negative.  \n",
    "\n",
    " \n",
    "## Sigmod is used to predict the probability of an output node being between 0 and 1.  \n",
    " \n",
    "## Tanh is used to predict if an output node is between 1 and -1. Used in classification use cases.  \n",
    "\n",
    "## ReLU used to set the output node to 0 if fuction result is negative and keeps the result value if the result is a positive value.  \n",
    " \n",
    "### Weights influence how well the output of our network will come close to the expected output value. \n",
    "### As an input enters the neuron, it gets multiplied by a weight value and the resulting output is either\n",
    "### observed, or passed to the next layer in the neural network. Weights for all neurons in a layer are \n",
    "### organized into one tensor\n",
    "\n",
    "### Bias makes up the difference between the activation function's output and its intended output. \n",
    "### A low bias suggest that the network is making more assumptions about the form of the output,\n",
    "### whereas a high bias value makes less assumptions about the form of the output."
   ]
  },
  {
   "cell_type": "markdown",
   "id": "577dd6f8",
   "metadata": {},
   "source": [
    "# Build a neural network\n",
    "### Neural networks are comprised of layers/modules that perform operations on data. \n",
    "### The torch.nn namespace provides all the building blocks you need to build your own neural network. \n",
    "### Every module in PyTorch subclasses the nn.Module. A neural network is a module itself that consists of \n",
    "### other modules (layers). This nested structure allows for building and managing complex architectures easily.\n",
    "\n"
   ]
  },
  {
   "cell_type": "code",
   "execution_count": 1,
   "id": "af4dadf6",
   "metadata": {},
   "outputs": [],
   "source": [
    "%matplotlib inline\n",
    "import os\n",
    "import torch\n",
    "from torch import nn\n",
    "from torch.utils.data import DataLoader\n",
    "from torchvision import datasets, transforms"
   ]
  },
  {
   "cell_type": "code",
   "execution_count": 2,
   "id": "640cd677",
   "metadata": {},
   "outputs": [
    {
     "name": "stdout",
     "output_type": "stream",
     "text": [
      "Using cpu device\n"
     ]
    }
   ],
   "source": [
    "# Check cuda env\n",
    "device = 'cuda' if torch.cuda.is_available() else 'cpu'\n",
    "print('Using {} device'.format(device))"
   ]
  },
  {
   "cell_type": "markdown",
   "id": "efc5f86d",
   "metadata": {},
   "source": [
    "# Define the class\n",
    "### We define our neural network by subclassing nn.Module, and initialize the neural network layers in __init__. Every nn.Module subclass implements the operations on input data in the forward method.\n",
    "\n",
    "## Our neural network are composed of the following:\n",
    "\n",
    "### The input layer with 28x28 or 784 features/pixels.\n",
    "### The first linear module takes the input 784 features and transforms it to a hidden layer with 512 features\n",
    "### The ReLU activation function will be applied in the transformation\n",
    "### The second linear module take 512 features as input from the first hidden layer and transforms it to the next hidden layer with 512 features\n",
    "### The ReLU activation function will be applied in the transformation\n",
    "### The third linear module take 512 features as input from the second hidden layer and transforms it to the output layer with 10, which is the number of classes\n",
    "### The ReLU activation function will be applied in the transformation"
   ]
  },
  {
   "cell_type": "code",
   "execution_count": 3,
   "id": "7425967f",
   "metadata": {},
   "outputs": [],
   "source": [
    "class NeuralNetwork(nn.Module):\n",
    "    def __init__(self):\n",
    "        super(NeuralNetwork, self).__init__()\n",
    "        self.flatten = nn.Flatten()\n",
    "        self.linear_relu_stack = nn.Sequential(\n",
    "            nn.Linear(28*28, 512),\n",
    "            nn.ReLU(),\n",
    "            nn.Linear(512, 512),\n",
    "            nn.ReLU(),\n",
    "            nn.Linear(512, 10),\n",
    "            nn.ReLU()\n",
    "        )\n",
    "\n",
    "    def forward(self, x):\n",
    "        x = self.flatten(x)\n",
    "        logits = self.linear_relu_stack(x)\n",
    "        return logits"
   ]
  },
  {
   "cell_type": "markdown",
   "id": "8c90db3e",
   "metadata": {},
   "source": [
    "## We create an instance of NeuralNetwork, and move it to the device, and print it's structure."
   ]
  },
  {
   "cell_type": "code",
   "execution_count": 4,
   "id": "e73b2415",
   "metadata": {},
   "outputs": [
    {
     "name": "stdout",
     "output_type": "stream",
     "text": [
      "NeuralNetwork(\n",
      "  (flatten): Flatten(start_dim=1, end_dim=-1)\n",
      "  (linear_relu_stack): Sequential(\n",
      "    (0): Linear(in_features=784, out_features=512, bias=True)\n",
      "    (1): ReLU()\n",
      "    (2): Linear(in_features=512, out_features=512, bias=True)\n",
      "    (3): ReLU()\n",
      "    (4): Linear(in_features=512, out_features=10, bias=True)\n",
      "    (5): ReLU()\n",
      "  )\n",
      ")\n"
     ]
    }
   ],
   "source": [
    "model = NeuralNetwork().to(device)\n",
    "print(model)"
   ]
  },
  {
   "cell_type": "markdown",
   "id": "054d7173",
   "metadata": {},
   "source": [
    "### To use the model, we pass it the input data. This executes the model's forward, along with some background\n",
    "### operations. However, do not call model.forward() directly! Calling the model on the input returns \n",
    "### a 10-dimensional tensor with raw predicted values for each class.\n",
    "\n",
    "### We get the prediction densities by passing it through an instance of the nn.Softmax.\n",
    "\n",
    "### The vector of raw (non-normalized) predictions that a classification model generates,\n",
    "### which is ordinarily then passed to a normalization function. \n",
    "### If the model is solving a multi-class classification problem, logits typically become an input to \n",
    "### the softmax function."
   ]
  },
  {
   "cell_type": "code",
   "execution_count": 5,
   "id": "caee9775",
   "metadata": {},
   "outputs": [
    {
     "name": "stdout",
     "output_type": "stream",
     "text": [
      "Predicted class: tensor([9])\n"
     ]
    }
   ],
   "source": [
    "X = torch.rand(1, 28, 28, device=device)\n",
    "logits = model(X) \n",
    "pred_probab = nn.Softmax(dim=1)(logits)\n",
    "y_pred = pred_probab.argmax(1)\n",
    "print(f\"Predicted class: {y_pred}\")"
   ]
  },
  {
   "cell_type": "markdown",
   "id": "92a230e0",
   "metadata": {},
   "source": [
    "# Weight and Bias\n",
    "### The nn.Linear module randomly initializes the weights and bias for each layer and \n",
    "### internally stores the values in Tensors."
   ]
  },
  {
   "cell_type": "code",
   "execution_count": 6,
   "id": "d793afb0",
   "metadata": {},
   "outputs": [
    {
     "name": "stdout",
     "output_type": "stream",
     "text": [
      "First Linear weights: Parameter containing:\n",
      "tensor([[-0.0048, -0.0098, -0.0285,  ...,  0.0217, -0.0355, -0.0226],\n",
      "        [ 0.0176,  0.0285,  0.0145,  ...,  0.0054, -0.0354,  0.0071],\n",
      "        [-0.0035,  0.0300,  0.0099,  ...,  0.0249, -0.0332, -0.0244],\n",
      "        ...,\n",
      "        [-0.0303,  0.0086, -0.0238,  ...,  0.0023, -0.0186, -0.0066],\n",
      "        [-0.0204, -0.0249, -0.0290,  ...,  0.0281, -0.0109, -0.0083],\n",
      "        [ 0.0041,  0.0069,  0.0063,  ..., -0.0252, -0.0251,  0.0172]],\n",
      "       requires_grad=True) \n",
      "\n",
      "First Linear weights: Parameter containing:\n",
      "tensor([ 1.9979e-02, -1.3111e-02,  3.3245e-02, -2.6027e-02, -3.2791e-02,\n",
      "         2.8108e-02, -1.2076e-02,  1.8051e-02,  2.1053e-02,  2.5713e-02,\n",
      "        -2.0482e-03,  9.8931e-03, -1.3956e-02, -1.4286e-02, -6.9253e-03,\n",
      "         1.5898e-02, -3.0918e-02, -1.9073e-02,  2.1945e-02, -2.9468e-02,\n",
      "         2.5033e-02, -3.0237e-02, -2.3187e-02,  2.8115e-02,  3.1781e-03,\n",
      "        -1.8615e-03,  3.0900e-02, -3.2999e-02,  3.5465e-02,  3.3410e-02,\n",
      "        -4.5635e-03, -2.9049e-02,  3.1154e-02,  3.0999e-02,  2.3015e-03,\n",
      "        -1.5410e-02, -1.7741e-02, -1.8331e-02,  3.5467e-03, -2.3433e-02,\n",
      "        -1.0391e-02,  1.2172e-02, -1.5777e-02, -1.6287e-02,  2.6114e-02,\n",
      "        -2.3624e-02,  3.5088e-02,  3.6521e-03,  6.7240e-03,  1.1434e-02,\n",
      "        -1.0200e-02,  2.9289e-02,  1.2736e-02, -2.1999e-02,  1.5250e-02,\n",
      "         3.4461e-02, -1.4856e-02,  2.4344e-02,  1.5386e-02,  1.1536e-02,\n",
      "        -2.5005e-02, -1.4749e-02,  2.5390e-02,  3.0451e-02, -3.2390e-02,\n",
      "        -4.1274e-03, -2.7377e-02,  1.9470e-02, -4.4294e-03,  1.3523e-02,\n",
      "        -1.5359e-02, -2.6040e-02,  2.3603e-02, -8.0668e-03, -2.9089e-02,\n",
      "         1.8568e-02,  3.4806e-02, -2.2878e-02,  1.1557e-02,  1.7435e-02,\n",
      "        -3.4265e-02,  6.7535e-03, -8.1327e-03,  7.3868e-03, -8.1329e-03,\n",
      "        -1.5828e-02,  3.0944e-02,  4.4194e-03,  2.6324e-02, -2.5009e-02,\n",
      "         5.6360e-03, -2.1716e-02,  2.3487e-03,  2.8138e-02,  2.2066e-03,\n",
      "         1.0959e-02,  1.5883e-02, -2.8093e-02, -2.6287e-02, -2.7103e-03,\n",
      "         1.0596e-02, -2.1227e-03, -1.6337e-02, -1.4273e-02, -1.1398e-02,\n",
      "         6.8642e-03,  3.1030e-03, -1.9185e-02,  1.7040e-02, -6.4497e-03,\n",
      "         3.5268e-02, -2.4882e-02, -2.6107e-02, -1.0572e-02,  2.3891e-02,\n",
      "        -3.1404e-02,  1.8872e-02,  2.5517e-02,  9.4483e-03, -1.9809e-02,\n",
      "         1.7843e-02,  1.6019e-02,  2.6845e-03, -3.2051e-02,  5.1849e-03,\n",
      "         3.5582e-02, -1.0464e-02, -1.1438e-02, -5.8176e-03,  2.3077e-02,\n",
      "        -1.5428e-02, -2.7583e-02,  5.3040e-03, -2.5788e-03,  3.3918e-02,\n",
      "         2.5735e-02,  1.7071e-02,  2.0780e-02,  2.1585e-02, -8.4864e-03,\n",
      "         2.5305e-02,  2.9656e-02,  2.6769e-02, -5.8174e-03, -1.9287e-02,\n",
      "        -7.7645e-03,  2.3082e-02,  1.7648e-02, -3.2531e-02, -3.0000e-02,\n",
      "         2.3591e-02,  3.2128e-02, -2.4721e-02,  3.0721e-02, -1.5587e-02,\n",
      "         3.5672e-02, -3.4397e-02,  2.9840e-02, -5.0291e-03, -8.9049e-05,\n",
      "         1.7081e-02, -1.5068e-02, -3.1185e-02, -6.9152e-04,  1.0526e-02,\n",
      "         2.8843e-02,  3.4437e-02,  2.2508e-02,  6.4854e-03, -1.7252e-02,\n",
      "         8.5839e-03, -3.0514e-02, -1.8306e-02,  1.8305e-02, -6.6342e-03,\n",
      "         3.2087e-02, -9.4108e-03,  3.7325e-03, -9.7372e-03, -1.1348e-02,\n",
      "         3.1110e-02, -2.2285e-02, -3.4553e-02, -7.2837e-03,  2.9450e-02,\n",
      "         2.6179e-02,  2.9606e-02,  5.2855e-03,  3.0796e-02,  1.4223e-02,\n",
      "         3.3369e-02,  1.5940e-02, -2.5094e-02,  2.0143e-02,  2.8952e-02,\n",
      "        -2.5300e-02, -9.0424e-03, -1.0527e-02,  9.1516e-03, -1.4840e-02,\n",
      "        -3.0063e-02, -7.6277e-03, -2.9300e-02,  3.4692e-03, -1.1331e-02,\n",
      "         1.7445e-02, -2.7408e-02, -9.8084e-03,  1.1348e-02, -2.9484e-02,\n",
      "        -2.9442e-02, -1.6208e-02, -2.1184e-02, -1.6361e-02, -1.9257e-02,\n",
      "         2.1976e-02, -4.1202e-04,  1.5521e-04,  3.0627e-03, -1.5214e-03,\n",
      "         8.9864e-03, -3.0292e-02, -2.2471e-02,  2.3795e-02, -1.7016e-02,\n",
      "         1.6817e-03, -2.6717e-02,  2.5156e-02, -8.4693e-03, -2.1865e-02,\n",
      "         2.7574e-02,  1.8121e-02,  2.9037e-02,  1.9289e-02,  5.9121e-03,\n",
      "         2.2817e-02,  1.6175e-02,  3.0587e-02, -2.8800e-02,  2.0981e-02,\n",
      "         5.7006e-03,  2.8891e-02,  9.9780e-03,  4.8542e-03, -3.2840e-02,\n",
      "         3.5123e-02,  2.8845e-02,  2.5544e-02, -1.8148e-02, -1.4284e-02,\n",
      "        -1.2852e-02,  2.7779e-02, -1.5701e-02,  1.0598e-02, -3.2722e-03,\n",
      "         2.4689e-02,  3.4263e-02,  1.2823e-02,  1.0285e-02, -2.7679e-02,\n",
      "        -3.3811e-02,  3.5113e-02,  1.7209e-02, -2.9602e-02, -1.7722e-02,\n",
      "        -1.0175e-02,  6.2206e-03,  2.7676e-02, -3.4078e-02, -2.5368e-02,\n",
      "         2.8596e-02,  1.8737e-02,  1.9856e-02, -3.2921e-03,  8.2225e-03,\n",
      "        -1.0779e-02,  2.8420e-02, -2.0865e-02, -1.1119e-02,  7.8613e-03,\n",
      "         4.0247e-03, -5.6984e-04,  2.2160e-02, -1.4430e-02, -1.2298e-02,\n",
      "        -3.1480e-02, -3.3897e-02,  1.5448e-02, -2.0212e-02,  3.0044e-02,\n",
      "        -3.1637e-02,  2.1350e-02, -3.2109e-02, -1.8360e-02, -3.3526e-02,\n",
      "        -3.0240e-02,  1.7369e-02, -5.5457e-03,  2.3770e-02,  5.2790e-03,\n",
      "        -3.8673e-03, -2.6851e-02, -9.0094e-03,  1.0710e-02,  1.1234e-02,\n",
      "        -8.1414e-03,  1.9468e-02, -2.2020e-02, -3.5650e-02,  6.4847e-03,\n",
      "        -1.7139e-02,  9.3018e-03, -3.4800e-03,  3.2240e-02, -3.4047e-02,\n",
      "        -3.2922e-02, -1.6187e-02,  2.4952e-02, -2.5981e-02,  1.8018e-02,\n",
      "         5.2814e-03, -8.4250e-03, -3.1246e-02, -6.5076e-04,  1.0301e-02,\n",
      "        -1.4795e-02,  1.4161e-02,  2.7861e-02,  1.9818e-02,  2.7564e-02,\n",
      "         4.1941e-03, -1.7901e-02,  3.1854e-03,  2.0074e-02, -2.1155e-02,\n",
      "         1.3302e-02, -3.3691e-02,  1.4492e-02,  2.0933e-02,  2.7137e-02,\n",
      "        -1.3521e-02, -2.8934e-02,  2.0264e-02,  2.2873e-02, -2.6248e-02,\n",
      "        -3.0043e-02, -2.1074e-02,  4.9840e-03,  6.0339e-03,  1.1222e-02,\n",
      "         5.2113e-03,  3.0301e-02,  1.8971e-02, -3.8475e-03, -2.7299e-02,\n",
      "        -2.0485e-02, -2.1369e-02, -2.2639e-02, -3.5034e-02, -7.8909e-03,\n",
      "         5.3884e-03,  3.0735e-02, -2.3659e-02, -3.4508e-02,  2.3590e-02,\n",
      "         1.9110e-02,  3.4614e-02,  1.3917e-02,  2.8148e-02, -2.6562e-02,\n",
      "        -2.6445e-03,  3.0645e-02, -2.7383e-02,  2.5510e-02,  2.0945e-02,\n",
      "        -2.2471e-02,  4.0780e-03,  1.8991e-02,  2.0794e-03,  2.9136e-02,\n",
      "         3.1183e-02,  1.0505e-02, -2.0974e-02,  2.2311e-03, -2.4076e-02,\n",
      "         2.8934e-02,  1.2442e-02, -3.0047e-02,  3.3683e-02, -3.1527e-02,\n",
      "         3.1392e-02,  2.1049e-02,  1.4196e-02,  1.2920e-02, -2.9986e-02,\n",
      "         2.1616e-02,  8.8236e-03, -7.8194e-03,  1.9332e-02,  1.7767e-02,\n",
      "        -5.3147e-03,  2.7764e-02,  2.8518e-02, -1.1999e-02, -9.2316e-03,\n",
      "         3.2110e-02, -2.1871e-03, -1.8387e-02, -1.0397e-03,  2.6848e-02,\n",
      "         1.3524e-02,  6.4002e-03,  3.0779e-02, -9.7212e-03, -3.4276e-02,\n",
      "        -1.2942e-02, -2.5246e-02,  8.8565e-03,  7.7649e-03,  1.6040e-02,\n",
      "         2.7773e-02, -1.4798e-02, -4.5770e-03, -2.1625e-03, -9.9489e-03,\n",
      "        -2.9503e-02,  7.1396e-03,  1.3667e-02, -2.6994e-02,  2.6802e-02,\n",
      "        -6.6980e-03, -1.6711e-02, -7.1462e-03,  2.7198e-02,  9.9754e-04,\n",
      "         3.5268e-03,  5.0836e-03, -8.5752e-03,  2.6294e-02, -2.6374e-02,\n",
      "        -8.7405e-03,  3.4299e-02,  2.4074e-02, -2.6339e-02,  2.8077e-02,\n",
      "         2.0257e-02, -2.4399e-02, -2.3104e-02, -4.6723e-03, -1.3286e-02,\n",
      "        -8.4866e-03, -1.9160e-02,  2.3746e-02,  3.5063e-02,  5.8836e-04,\n",
      "         1.7426e-02,  1.9164e-02, -8.6074e-03,  2.3417e-02, -2.2356e-04,\n",
      "         1.8896e-02, -9.4882e-03, -1.6744e-02,  1.2643e-02,  2.5025e-03,\n",
      "         2.6825e-03,  6.3539e-03,  1.2397e-02, -1.8141e-04,  9.8653e-04,\n",
      "         3.2170e-02, -3.3438e-03,  4.8958e-03, -1.3890e-02, -4.8320e-03,\n",
      "        -3.5266e-02, -1.7740e-03,  3.0154e-02, -3.2750e-02, -2.5632e-02,\n",
      "         1.5199e-02,  3.5126e-02, -2.7995e-03, -5.3758e-03, -2.1748e-02,\n",
      "         1.6650e-02, -3.5027e-02,  2.2817e-02,  1.2096e-02, -5.5886e-03,\n",
      "         3.1190e-02,  1.5828e-02,  1.6936e-02, -1.2772e-02, -1.2439e-02,\n",
      "        -5.0367e-03,  5.8737e-03,  1.2785e-02, -2.0931e-02, -2.2589e-02,\n",
      "        -3.2604e-02,  2.9719e-03,  6.6858e-03,  2.4772e-02,  2.5934e-02,\n",
      "        -7.1151e-03, -6.3736e-04,  1.7834e-02,  1.9725e-02,  2.2776e-02,\n",
      "         3.4435e-02, -2.3024e-02], requires_grad=True) \n",
      "\n"
     ]
    }
   ],
   "source": [
    "print(f\"First Linear weights: {model.linear_relu_stack[0].weight} \\n\")\n",
    "\n",
    "print(f\"First Linear weights: {model.linear_relu_stack[0].bias} \\n\")"
   ]
  },
  {
   "cell_type": "markdown",
   "id": "f2ce74a7",
   "metadata": {},
   "source": [
    "## Model layers\n",
    "### Let's break down the layers in the FashionMNIST model. To illustrate it, we will take a sample minibatch \n",
    "### of 3 images of size 28x28 and see what happens to it as we pass it through the network."
   ]
  },
  {
   "cell_type": "code",
   "execution_count": 7,
   "id": "1807adb7",
   "metadata": {},
   "outputs": [
    {
     "name": "stdout",
     "output_type": "stream",
     "text": [
      "torch.Size([3, 28, 28])\n"
     ]
    }
   ],
   "source": [
    "input_image = torch.rand(3,28,28)\n",
    "print(input_image.size())"
   ]
  },
  {
   "cell_type": "markdown",
   "id": "ed8a6774",
   "metadata": {},
   "source": [
    "## nn.Flatten\n",
    "### We initialize the nn.Flatten layer to convert each 2D 28x28 image into a contiguous array of 784 pixel\n",
    "### values (the minibatch dimension (at dim=0) is maintained). Each of the pixels are pass to the input layer\n",
    "### of the neural network."
   ]
  },
  {
   "cell_type": "code",
   "execution_count": 8,
   "id": "3d28c494",
   "metadata": {},
   "outputs": [
    {
     "name": "stdout",
     "output_type": "stream",
     "text": [
      "torch.Size([3, 784])\n"
     ]
    }
   ],
   "source": [
    "flatten = nn.Flatten()\n",
    "flat_image = flatten(input_image)\n",
    "print(flat_image.size())"
   ]
  },
  {
   "cell_type": "markdown",
   "id": "a68d1275",
   "metadata": {},
   "source": [
    "## nn.Linear\n",
    "### The linear layer is a module that applies a linear transformation on the input using it's stored weights\n",
    "### and biases. The gayscale value of each pixel in the input layer will be connected to neurons in the\n",
    "### hidden layer for calculation. The calculation used for the transformation is weights*input+bias\n"
   ]
  },
  {
   "cell_type": "code",
   "execution_count": 9,
   "id": "bc784104",
   "metadata": {},
   "outputs": [
    {
     "name": "stdout",
     "output_type": "stream",
     "text": [
      "torch.Size([3, 20])\n"
     ]
    }
   ],
   "source": [
    "layer1 = nn.Linear(in_features=28*28, out_features=20)\n",
    "hidden1 = layer1(flat_image)\n",
    "print(hidden1.size())"
   ]
  },
  {
   "cell_type": "markdown",
   "id": "0e933132",
   "metadata": {},
   "source": [
    "## nn.ReLU\n",
    "### Non-linear activations are what create the complex mappings between the model's inputs and outputs. \n",
    "### They are applied after linear transformations to introduce nonlinearity, helping neural networks learn\n",
    "### a wide variety of phenomena. In this model, we use nn.ReLU between our linear layers, but there's other \n",
    "### activations to introduce non-linearity in your model.\n",
    "\n",
    "### The ReLU activation function takes the output from the linear layer calculation and replaces the negative \n",
    "### values with zeros."
   ]
  },
  {
   "cell_type": "code",
   "execution_count": 10,
   "id": "4c97542d",
   "metadata": {},
   "outputs": [
    {
     "name": "stdout",
     "output_type": "stream",
     "text": [
      "Before ReLU: tensor([[ 0.3435,  0.5126,  0.4097,  0.2583, -0.0781, -0.1835,  0.3323, -0.1861,\n",
      "         -0.1973,  0.2981,  0.1101,  0.1737, -0.4396,  0.0357,  0.0319, -0.3189,\n",
      "         -0.0996, -0.0631,  0.0605,  0.2851],\n",
      "        [ 0.0854,  0.4381,  0.1920,  0.2365,  0.1104, -0.2648, -0.0686,  0.0771,\n",
      "          0.3875,  0.2974,  0.1432,  0.5018, -0.2782,  0.2520, -0.1905, -0.7304,\n",
      "         -0.1839,  0.1481, -0.0445,  0.2097],\n",
      "        [-0.0128,  0.5809,  0.2120,  0.3726, -0.0301, -0.3172,  0.2074, -0.2738,\n",
      "          0.3363,  0.2090,  0.0271,  0.3709, -0.4761, -0.0735, -0.2454, -0.1175,\n",
      "         -0.2369,  0.1966, -0.0215,  0.0459]], grad_fn=<AddmmBackward0>)\n",
      "\n",
      "\n",
      "After ReLU: tensor([[0.3435, 0.5126, 0.4097, 0.2583, 0.0000, 0.0000, 0.3323, 0.0000, 0.0000,\n",
      "         0.2981, 0.1101, 0.1737, 0.0000, 0.0357, 0.0319, 0.0000, 0.0000, 0.0000,\n",
      "         0.0605, 0.2851],\n",
      "        [0.0854, 0.4381, 0.1920, 0.2365, 0.1104, 0.0000, 0.0000, 0.0771, 0.3875,\n",
      "         0.2974, 0.1432, 0.5018, 0.0000, 0.2520, 0.0000, 0.0000, 0.0000, 0.1481,\n",
      "         0.0000, 0.2097],\n",
      "        [0.0000, 0.5809, 0.2120, 0.3726, 0.0000, 0.0000, 0.2074, 0.0000, 0.3363,\n",
      "         0.2090, 0.0271, 0.3709, 0.0000, 0.0000, 0.0000, 0.0000, 0.0000, 0.1966,\n",
      "         0.0000, 0.0459]], grad_fn=<ReluBackward0>)\n"
     ]
    }
   ],
   "source": [
    "print(f\"Before ReLU: {hidden1}\\n\\n\")\n",
    "hidden1 = nn.ReLU()(hidden1)\n",
    "print(f\"After ReLU: {hidden1}\")"
   ]
  },
  {
   "cell_type": "markdown",
   "id": "d49776d7",
   "metadata": {},
   "source": [
    "## nn.Sequential\n",
    "### nn.Sequential is an ordered container of modules. The data is passed through all the modules in the \n",
    "### same order as defined. You can use sequential containers to put together a quick network like seq_modules."
   ]
  },
  {
   "cell_type": "code",
   "execution_count": 11,
   "id": "67a54ec2",
   "metadata": {},
   "outputs": [],
   "source": [
    "seq_modules = nn.Sequential(\n",
    "    flatten,\n",
    "    layer1,\n",
    "    nn.ReLU(),\n",
    "    nn.Linear(20, 10)\n",
    ")\n",
    "input_image = torch.rand(3,28,28)\n",
    "logits = seq_modules(input_image)"
   ]
  },
  {
   "cell_type": "markdown",
   "id": "3faf2de5",
   "metadata": {},
   "source": [
    "## nn.Softmax\n",
    "### The last linear layer of the neural network returns logits - raw values in [-infty, infty], \n",
    "### which are passed to the nn.Softmax module. The Softmax activation function is used to calculate the \n",
    "### probability of the output from the neural network. It is only used on the output layer of a neural network. The results are scaled to values [0, 1] representing the model's predicted densities for each class. dim parameter indicates the dimension along which the result values must sum to 1. The node with the highest probability predicts the desired output."
   ]
  },
  {
   "cell_type": "code",
   "execution_count": 12,
   "id": "c40d51d2",
   "metadata": {},
   "outputs": [],
   "source": [
    "softmax = nn.Softmax(dim=1)\n",
    "pred_probab = softmax(logits)"
   ]
  },
  {
   "cell_type": "markdown",
   "id": "80f51401",
   "metadata": {},
   "source": [
    "## Model parameters\n",
    "### Many layers inside a neural network are parameterized, i.e. have associated weights and biases that are \n",
    "### optimized during training. Subclassing nn.Module automatically tracks all fields defined inside your \n",
    "### model object, and makes all parameters accessible using your model's parameters() or named_parameters()methods.\n",
    "\n",
    "### In this example, we iterate over each parameter, and print its size and a preview of its values."
   ]
  },
  {
   "cell_type": "code",
   "execution_count": 13,
   "id": "e9ed5b4c",
   "metadata": {},
   "outputs": [
    {
     "name": "stdout",
     "output_type": "stream",
     "text": [
      "Model structure:  NeuralNetwork(\n",
      "  (flatten): Flatten(start_dim=1, end_dim=-1)\n",
      "  (linear_relu_stack): Sequential(\n",
      "    (0): Linear(in_features=784, out_features=512, bias=True)\n",
      "    (1): ReLU()\n",
      "    (2): Linear(in_features=512, out_features=512, bias=True)\n",
      "    (3): ReLU()\n",
      "    (4): Linear(in_features=512, out_features=10, bias=True)\n",
      "    (5): ReLU()\n",
      "  )\n",
      ") \n",
      "\n",
      "\n",
      "Layer: linear_relu_stack.0.weight | Size: torch.Size([512, 784]) | Values : tensor([[-0.0048, -0.0098, -0.0285,  ...,  0.0217, -0.0355, -0.0226],\n",
      "        [ 0.0176,  0.0285,  0.0145,  ...,  0.0054, -0.0354,  0.0071]],\n",
      "       grad_fn=<SliceBackward0>) \n",
      "\n",
      "Layer: linear_relu_stack.0.bias | Size: torch.Size([512]) | Values : tensor([ 0.0200, -0.0131], grad_fn=<SliceBackward0>) \n",
      "\n",
      "Layer: linear_relu_stack.2.weight | Size: torch.Size([512, 512]) | Values : tensor([[-0.0380,  0.0343, -0.0201,  ..., -0.0433, -0.0052,  0.0366],\n",
      "        [ 0.0227,  0.0003, -0.0110,  ..., -0.0415, -0.0271, -0.0150]],\n",
      "       grad_fn=<SliceBackward0>) \n",
      "\n",
      "Layer: linear_relu_stack.2.bias | Size: torch.Size([512]) | Values : tensor([-0.0384,  0.0311], grad_fn=<SliceBackward0>) \n",
      "\n",
      "Layer: linear_relu_stack.4.weight | Size: torch.Size([10, 512]) | Values : tensor([[ 0.0356,  0.0038, -0.0250,  ...,  0.0063, -0.0060,  0.0368],\n",
      "        [-0.0403,  0.0005,  0.0332,  ..., -0.0145, -0.0073,  0.0326]],\n",
      "       grad_fn=<SliceBackward0>) \n",
      "\n",
      "Layer: linear_relu_stack.4.bias | Size: torch.Size([10]) | Values : tensor([-0.0342, -0.0113], grad_fn=<SliceBackward0>) \n",
      "\n"
     ]
    }
   ],
   "source": [
    "print(\"Model structure: \", model, \"\\n\\n\")\n",
    "\n",
    "for name, param in model.named_parameters():\n",
    "    print(f\"Layer: {name} | Size: {param.size()} | Values : {param[:2]} \\n\")"
   ]
  },
  {
   "cell_type": "code",
   "execution_count": null,
   "id": "f30beecd",
   "metadata": {},
   "outputs": [],
   "source": []
  }
 ],
 "metadata": {
  "kernelspec": {
   "display_name": "Python 3",
   "language": "python",
   "name": "python3"
  },
  "language_info": {
   "codemirror_mode": {
    "name": "ipython",
    "version": 3
   },
   "file_extension": ".py",
   "mimetype": "text/x-python",
   "name": "python",
   "nbconvert_exporter": "python",
   "pygments_lexer": "ipython3",
   "version": "3.6.13"
  }
 },
 "nbformat": 4,
 "nbformat_minor": 5
}
