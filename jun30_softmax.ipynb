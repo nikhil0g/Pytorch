{
 "cells": [
  {
   "cell_type": "markdown",
   "id": "b7c69c58",
   "metadata": {},
   "source": [
    "# Softmax"
   ]
  },
  {
   "cell_type": "code",
   "execution_count": 3,
   "id": "022ddc59",
   "metadata": {},
   "outputs": [
    {
     "name": "stdout",
     "output_type": "stream",
     "text": [
      "softmax numpy :  [0.65900114 0.24243297 0.09856589]\n",
      "tensor([0.6590, 0.2424, 0.0986])\n"
     ]
    }
   ],
   "source": [
    "import torch\n",
    "import torch.nn as nn\n",
    "import numpy as np\n",
    "\n",
    "def softmax(x):\n",
    "    return np.exp(x) / np.sum(np.exp(x), axis=0)\n",
    "\n",
    "x = np.array([2.0,1.0,0.1])    #higher values have higher probabilities\n",
    "outputs = softmax(x)\n",
    "print('softmax numpy : ',outputs)\n",
    "\n",
    "#tensor method\n",
    "x = torch.tensor([2.0,1.0,0.1])      # result is almost same\n",
    "outputs = torch.softmax(x, dim=0)\n",
    "print(outputs)"
   ]
  },
  {
   "cell_type": "markdown",
   "id": "e55381e4",
   "metadata": {},
   "source": [
    "# Cross-Entropy"
   ]
  },
  {
   "cell_type": "code",
   "execution_count": 6,
   "id": "cfbb55c6",
   "metadata": {},
   "outputs": [
    {
     "name": "stdout",
     "output_type": "stream",
     "text": [
      "loss1 numpy: 0.3567\n",
      "loss2 numpy: 2.3026\n"
     ]
    }
   ],
   "source": [
    "import torch \n",
    "import torch.nn as nn\n",
    "import numpy as np\n",
    "\n",
    "def CrossEntropy(actual , predicted):\n",
    "    loss = -np.sum(actual * np.log(predicted))\n",
    "    return loss   #float(predicted.shape[0])\n",
    "\n",
    "# y must be one hot encoded\n",
    "# if class0 :[1,0,0]\n",
    "#if class1 : [0,1,0]\n",
    "#if class2 : [0,0,1]\n",
    "\n",
    "Y = np.array([1,0,0])\n",
    "\n",
    "# y pred has probabilities\n",
    "Y_pred_good = np.array([0.7,0.2,0.1])\n",
    "Y_pred_bad = np.array([0.1,0.3,0.6])\n",
    "\n",
    "l1 = CrossEntropy(Y, Y_pred_good)\n",
    "l2 = CrossEntropy(Y, Y_pred_bad)\n",
    "print(f'loss1 numpy: {l1:.4f}')\n",
    "print(f'loss2 numpy: {l2:.4f}')\n",
    "    "
   ]
  },
  {
   "cell_type": "markdown",
   "id": "5712827e",
   "metadata": {},
   "source": [
    "# Cross-Entropy with Torch"
   ]
  },
  {
   "cell_type": "code",
   "execution_count": 12,
   "id": "f16ae05c",
   "metadata": {},
   "outputs": [
    {
     "name": "stdout",
     "output_type": "stream",
     "text": [
      "0.4170299470424652\n",
      "1.840616226196289\n",
      "tensor([0])\n",
      "tensor([1])\n"
     ]
    }
   ],
   "source": [
    "import torch \n",
    "import torch.nn as nn\n",
    "import numpy as np\n",
    "\n",
    "loss = nn.CrossEntropyLoss()\n",
    "\n",
    "Y = torch.tensor([0])\n",
    "\n",
    "#nsamples * nclass = 1 * 3\n",
    "\n",
    "Y_pred_good = torch.tensor([[2.0,1.0,0.1]])\n",
    "Y_pred_bad = torch.tensor([[0.5,2.0,0.3]])\n",
    "\n",
    "l1 = loss(Y_pred_good, Y)\n",
    "l2 = loss(Y_pred_bad, Y)\n",
    "\n",
    "print(l1.item())   # lower cross entropy loss\n",
    "print(l2.item())   # higher cross entropy loss\n",
    "\n",
    "_, predictions1 = torch.max(Y_pred_good, 1)\n",
    "_, predictions2 = torch.max(Y_pred_bad, 1) \n",
    "\n",
    "print(predictions1)\n",
    "print(predictions2)"
   ]
  },
  {
   "cell_type": "code",
   "execution_count": 14,
   "id": "0ad2d548",
   "metadata": {},
   "outputs": [
    {
     "name": "stdout",
     "output_type": "stream",
     "text": [
      "0.8786281943321228\n",
      "2.2138671875\n",
      "tensor([0, 0, 1])\n",
      "tensor([1, 1, 2])\n"
     ]
    }
   ],
   "source": [
    "# Increasing classes or sample\n",
    "\n",
    "import torch \n",
    "import torch.nn as nn\n",
    "import numpy as np\n",
    "\n",
    "loss = nn.CrossEntropyLoss()\n",
    "\n",
    "Y = torch.tensor([2,0,1])\n",
    "\n",
    "#nsamples * nclass = 3 * 3\n",
    "\n",
    "Y_pred_good = torch.tensor([[2.0,1.0,0.1],[3.0,1.0,0.1],[2.0,4.0,0.1]])\n",
    "Y_pred_bad = torch.tensor([[0.5,2.0,0.3],[0.5,1.0,0.3],[0.5,1.0,4.3]])\n",
    "\n",
    "l1 = loss(Y_pred_good, Y)\n",
    "l2 = loss(Y_pred_bad, Y)\n",
    "\n",
    "print(l1.item())   # lower cross entropy loss\n",
    "print(l2.item())   # higher cross entropy loss\n",
    "\n",
    "_, predictions1 = torch.max(Y_pred_good, 1)\n",
    "_, predictions2 = torch.max(Y_pred_bad, 1) \n",
    "\n",
    "print(predictions1)\n",
    "print(predictions2)"
   ]
  },
  {
   "cell_type": "code",
   "execution_count": null,
   "id": "01174e51",
   "metadata": {},
   "outputs": [],
   "source": []
  }
 ],
 "metadata": {
  "kernelspec": {
   "display_name": "Python 3 (ipykernel)",
   "language": "python",
   "name": "python3"
  },
  "language_info": {
   "codemirror_mode": {
    "name": "ipython",
    "version": 3
   },
   "file_extension": ".py",
   "mimetype": "text/x-python",
   "name": "python",
   "nbconvert_exporter": "python",
   "pygments_lexer": "ipython3",
   "version": "3.10.4"
  }
 },
 "nbformat": 4,
 "nbformat_minor": 5
}
