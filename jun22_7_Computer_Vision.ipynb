{
 "cells": [
  {
   "cell_type": "markdown",
   "id": "fbe0b0ed",
   "metadata": {},
   "source": [
    "# Computer Vision. Images as Tensors"
   ]
  },
  {
   "cell_type": "markdown",
   "id": "30a82c7f",
   "metadata": {},
   "source": [
    "### Computer Vision (CV) is a field that studies how computers can gain some degree of understanding\n",
    "### from digital images and/or video. Understanding in this definition has a rather broad meaning - \n",
    "### it can range from being able to distinguish between a cat and a dog on the picture, to more complex \n",
    "### tasks such as describing the image in natural language."
   ]
  },
  {
   "cell_type": "markdown",
   "id": "4c4428d1",
   "metadata": {},
   "source": [
    "# The most common problems of computer vision include:\n",
    "\n",
    "### Image Classification is the simplest task, when we need to classify an image into one of many pre-defined \n",
    "### categories, for example, distinguish a cat from a dog on a photograph, or recognize a handwritten digit.\n",
    "\n",
    "### Object Detection is a bit more difficult task, in which we need to find known objects on the picture and \n",
    "### localize them, that is, return the bounding box for each of recognized objects.\n",
    "\n",
    "### Segmentation is similar to object detection, but instead of giving bounding box we need to return an exact\n",
    "### pixel map outlining each of the recognized objects."
   ]
  },
  {
   "cell_type": "markdown",
   "id": "07ba2bbb",
   "metadata": {},
   "source": [
    "# Import packages and load the MNIST Dataset"
   ]
  },
  {
   "cell_type": "code",
   "execution_count": 1,
   "id": "fffb2c8f",
   "metadata": {},
   "outputs": [],
   "source": [
    "#Import the packages needed.\n",
    "import torch\n",
    "import torchvision\n",
    "import matplotlib.pyplot as plt\n",
    "import numpy as np"
   ]
  },
  {
   "cell_type": "markdown",
   "id": "9e8b08cd",
   "metadata": {},
   "source": [
    "### PyTorch has a number of datasets available right from the library. Here we are using the well-known MNIST \n",
    "### dataset of handwritten digits, available through torchvison.datasets.MNIST in PyTorch. \n",
    "### The dataset object returns the data in the form of Python Imagine Library (PIL) images, which we convert \n",
    "### to tensors by passing a transform=ToTensor() parameter."
   ]
  },
  {
   "cell_type": "code",
   "execution_count": 2,
   "id": "d267e74e",
   "metadata": {},
   "outputs": [
    {
     "name": "stdout",
     "output_type": "stream",
     "text": [
      "Downloading http://yann.lecun.com/exdb/mnist/train-images-idx3-ubyte.gz\n",
      "Downloading http://yann.lecun.com/exdb/mnist/train-images-idx3-ubyte.gz to ./data/MNIST/raw/train-images-idx3-ubyte.gz\n"
     ]
    },
    {
     "data": {
      "application/vnd.jupyter.widget-view+json": {
       "model_id": "f45d8a1593154bb7bd65607e2fb958ef",
       "version_major": 2,
       "version_minor": 0
      },
      "text/plain": [
       "  0%|          | 0/9912422 [00:00<?, ?it/s]"
      ]
     },
     "metadata": {},
     "output_type": "display_data"
    },
    {
     "name": "stdout",
     "output_type": "stream",
     "text": [
      "Extracting ./data/MNIST/raw/train-images-idx3-ubyte.gz to ./data/MNIST/raw\n",
      "\n",
      "Downloading http://yann.lecun.com/exdb/mnist/train-labels-idx1-ubyte.gz\n",
      "Downloading http://yann.lecun.com/exdb/mnist/train-labels-idx1-ubyte.gz to ./data/MNIST/raw/train-labels-idx1-ubyte.gz\n"
     ]
    },
    {
     "data": {
      "application/vnd.jupyter.widget-view+json": {
       "model_id": "f358ab17edef4490b5905460c2cc404d",
       "version_major": 2,
       "version_minor": 0
      },
      "text/plain": [
       "  0%|          | 0/28881 [00:00<?, ?it/s]"
      ]
     },
     "metadata": {},
     "output_type": "display_data"
    },
    {
     "name": "stdout",
     "output_type": "stream",
     "text": [
      "Extracting ./data/MNIST/raw/train-labels-idx1-ubyte.gz to ./data/MNIST/raw\n",
      "\n",
      "Downloading http://yann.lecun.com/exdb/mnist/t10k-images-idx3-ubyte.gz\n",
      "Downloading http://yann.lecun.com/exdb/mnist/t10k-images-idx3-ubyte.gz to ./data/MNIST/raw/t10k-images-idx3-ubyte.gz\n"
     ]
    },
    {
     "data": {
      "application/vnd.jupyter.widget-view+json": {
       "model_id": "96a58f6941664f82a816b045aa4220fd",
       "version_major": 2,
       "version_minor": 0
      },
      "text/plain": [
       "  0%|          | 0/1648877 [00:00<?, ?it/s]"
      ]
     },
     "metadata": {},
     "output_type": "display_data"
    },
    {
     "name": "stdout",
     "output_type": "stream",
     "text": [
      "Extracting ./data/MNIST/raw/t10k-images-idx3-ubyte.gz to ./data/MNIST/raw\n",
      "\n",
      "Downloading http://yann.lecun.com/exdb/mnist/t10k-labels-idx1-ubyte.gz\n",
      "Downloading http://yann.lecun.com/exdb/mnist/t10k-labels-idx1-ubyte.gz to ./data/MNIST/raw/t10k-labels-idx1-ubyte.gz\n"
     ]
    },
    {
     "data": {
      "application/vnd.jupyter.widget-view+json": {
       "model_id": "bf42eadb080e44ee937dfe5104acd8ec",
       "version_major": 2,
       "version_minor": 0
      },
      "text/plain": [
       "  0%|          | 0/4542 [00:00<?, ?it/s]"
      ]
     },
     "metadata": {},
     "output_type": "display_data"
    },
    {
     "name": "stdout",
     "output_type": "stream",
     "text": [
      "Extracting ./data/MNIST/raw/t10k-labels-idx1-ubyte.gz to ./data/MNIST/raw\n",
      "\n"
     ]
    }
   ],
   "source": [
    "from torchvision.transforms import ToTensor\n",
    "\n",
    "data_train = torchvision.datasets.MNIST('./data',\n",
    "        download=True,train=True,transform=ToTensor())\n",
    "data_test = torchvision.datasets.MNIST('./data',\n",
    "        download=True,train=False,transform=ToTensor())"
   ]
  },
  {
   "cell_type": "markdown",
   "id": "8fa21d1e",
   "metadata": {},
   "source": [
    "# Visualizing the dataset\n",
    "### Now that we have downloaded the dataset we can visualize some of the digits"
   ]
  },
  {
   "cell_type": "code",
   "execution_count": 3,
   "id": "10b33419",
   "metadata": {},
   "outputs": [
    {
     "data": {
      "image/png": "[encoded data removed]",
      "text/plain": [
       "<Figure size 432x288 with 7 Axes>"
      ]
     },
     "metadata": {
      "needs_background": "light"
     },
     "output_type": "display_data"
    }
   ],
   "source": [
    "fig,ax = plt.subplots(1,7)\n",
    "for i in range(7):\n",
    "    ax[i].imshow(data_train[i][0].view(28,28))\n",
    "    ax[i].set_title(data_train[i][1])\n",
    "    ax[i].axis('off')"
   ]
  },
  {
   "cell_type": "markdown",
   "id": "3c182cb4",
   "metadata": {},
   "source": [
    "# Dataset structure\n",
    "### We have a total of 6000 training images and 1000 testing images. Its important to split out the data for\n",
    "### training and testing. We also want to do some data exploration to get a better idea of what our data looks\n",
    "### like\n",
    "\n",
    "## Each sample is a tuple in the following structure:\n",
    "\n",
    "### First element is the actual image of a digit, represented by a tensor of shape 1x28x28\n",
    "### Second element is a label that specifies which digit is represented by the tensor. It is a tensor that\n",
    "### contains a number from 0 to 9.\n",
    "### data_train is a training dataset that we will use to train our model on. \n",
    "### data_test is a smaller test dataset that we can use to verify our model."
   ]
  },
  {
   "cell_type": "code",
   "execution_count": 4,
   "id": "95864d15",
   "metadata": {},
   "outputs": [
    {
     "name": "stdout",
     "output_type": "stream",
     "text": [
      "Training samples: 60000\n",
      "Test samples: 10000\n",
      "Tensor size: torch.Size([1, 28, 28])\n",
      "First 10 digits are: [5, 0, 4, 1, 9, 2, 1, 3, 1, 4]\n"
     ]
    }
   ],
   "source": [
    "print('Training samples:',len(data_train))\n",
    "print('Test samples:',len(data_test))\n",
    "\n",
    "print('Tensor size:',data_train[0][0].size())\n",
    "print('First 10 digits are:', [data_train[i][1] for i in range(10)])"
   ]
  },
  {
   "cell_type": "markdown",
   "id": "45de4c60",
   "metadata": {},
   "source": [
    "### All pixel intensities of the images are represented by floating-point values in between 0 and 1:\n",
    "\n"
   ]
  },
  {
   "cell_type": "code",
   "execution_count": 5,
   "id": "51a8cf7d",
   "metadata": {},
   "outputs": [
    {
     "name": "stdout",
     "output_type": "stream",
     "text": [
      "Min intensity value:  0.0\n",
      "Max intensity value:  1.0\n"
     ]
    }
   ],
   "source": [
    "print('Min intensity value: ',data_train[0][0].min().item())\n",
    "print('Max intensity value: ',data_train[0][0].max().item())"
   ]
  },
  {
   "cell_type": "code",
   "execution_count": null,
   "id": "28c52e4b",
   "metadata": {},
   "outputs": [],
   "source": []
  }
 ],
 "metadata": {
  "kernelspec": {
   "display_name": "Python 3",
   "language": "python",
   "name": "python3"
  },
  "language_info": {
   "codemirror_mode": {
    "name": "ipython",
    "version": 3
   },
   "file_extension": ".py",
   "mimetype": "text/x-python",
   "name": "python",
   "nbconvert_exporter": "python",
   "pygments_lexer": "ipython3",
   "version": "3.6.13"
  }
 },
 "nbformat": 4,
 "nbformat_minor": 5
}
