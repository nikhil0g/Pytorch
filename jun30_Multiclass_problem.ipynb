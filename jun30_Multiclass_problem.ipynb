{
 "cells": [
  {
   "cell_type": "markdown",
   "id": "c6f9abc0",
   "metadata": {},
   "source": [
    "## For multiclass"
   ]
  },
  {
   "cell_type": "code",
   "execution_count": null,
   "id": "601e759c",
   "metadata": {},
   "outputs": [],
   "source": [
    "import torch\n",
    "import torch.nn as nn\n",
    "\n",
    "class Neural_Net2(nn.Module):\n",
    "    def __init__(self, input_size, hidden_size, num_classes):\n",
    "        super(Neural_Net2,self).__init__()\n",
    "        \n",
    "        self.linear1 = nn.Linear(input_size,hidden_size)\n",
    "        self.relu = nn.ReLU()\n",
    "        self.linear2 = nn.Linear(hidden_size,num_classes)\n",
    "        \n",
    "    def forward(self, x):\n",
    "        out = self.linear1(x)\n",
    "        out = self.relu(out)\n",
    "        out = self.linear2(out)\n",
    "        # No softmax at the end\n",
    "        return out\n",
    "    \n",
    "model = Neural_Net2(input_size=28*28, hidden_size=5, num_classes=3)\n",
    "criterion = nn.CrossEntropyLoss()  #(applies softmax)"
   ]
  },
  {
   "cell_type": "markdown",
   "id": "7bcba695",
   "metadata": {},
   "source": [
    "# For single class"
   ]
  },
  {
   "cell_type": "code",
   "execution_count": null,
   "id": "25a0ab8e",
   "metadata": {},
   "outputs": [],
   "source": [
    "import torch\n",
    "import torch.nn as nn\n",
    "\n",
    "class Neural_Net2(nn.Module):\n",
    "    def __init__(self, input_size, hidden_size):\n",
    "        super(Neural_Net2,self).__init__()\n",
    "        \n",
    "        self.linear1 = nn.Linear(input_size,hidden_size)\n",
    "        self.relu = nn.ReLU()\n",
    "        self.linear2 = nn.Linear(hidden_size, 1)\n",
    "        \n",
    "    def forward(self, x):\n",
    "        out = self.linear1(x)\n",
    "        out = self.relu(out)\n",
    "        out = self.linear2(out)\n",
    "        # sigmoid at the end\n",
    "        y_pred = torch.Sigmoid(out)\n",
    "        return y_pred\n",
    "    \n",
    "model = Neural_Net2(input_size=28*28, hidden_size=5)\n",
    "criterion = nn.BCELoss()"
   ]
  }
 ],
 "metadata": {
  "kernelspec": {
   "display_name": "Python 3 (ipykernel)",
   "language": "python",
   "name": "python3"
  },
  "language_info": {
   "codemirror_mode": {
    "name": "ipython",
    "version": 3
   },
   "file_extension": ".py",
   "mimetype": "text/x-python",
   "name": "python",
   "nbconvert_exporter": "python",
   "pygments_lexer": "ipython3",
   "version": "3.10.4"
  }
 },
 "nbformat": 4,
 "nbformat_minor": 5
}
