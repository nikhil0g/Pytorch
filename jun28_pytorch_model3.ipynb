{
 "cells": [
  {
   "cell_type": "code",
   "execution_count": 7,
   "id": "d3445159",
   "metadata": {},
   "outputs": [
    {
     "name": "stdout",
     "output_type": "stream",
     "text": [
      "4 1\n",
      "Prediction before training: f(5) = 4.248\n",
      "ephoch 1: w = 1.179, loss = 11.71936607\n",
      "ephoch 11: w = 1.959, loss = 0.32007134\n",
      "ephoch 21: w = 2.082, loss = 0.02416268\n",
      "ephoch 31: w = 2.099, loss = 0.01558258\n",
      "ephoch 41: w = 2.099, loss = 0.01448997\n",
      "ephoch 51: w = 2.097, loss = 0.01364178\n",
      "ephoch 61: w = 2.094, loss = 0.01284764\n",
      "ephoch 71: w = 2.091, loss = 0.01209982\n",
      "ephoch 81: w = 2.089, loss = 0.01139555\n",
      "ephoch 91: w = 2.086, loss = 0.01073229\n",
      "Prediction after training: f(5) = 10.172\n"
     ]
    }
   ],
   "source": [
    "# Design model(input, output size, forward pass)\n",
    "# construct loss and optimizer\n",
    "# training loop\n",
    "#    -forwoard pass: compute prediction\n",
    "#    -backward pass: gradients\n",
    "#    -update weights\n",
    "\n",
    "\n",
    "import torch\n",
    "import torch.nn as nn\n",
    "# f = w * x\n",
    "\n",
    "#f = 2 * x\n",
    "\n",
    "X = torch.tensor([[1],[2],[3],[4]], dtype=torch.float32)\n",
    "Y = torch.tensor([[2],[4],[6],[8]], dtype=torch.float32)\n",
    "\n",
    "X_test = torch.tensor([5], dtype=torch.float32)\n",
    "\n",
    "n_samples, n_features = X.shape\n",
    "print(n_samples,n_features)\n",
    "\n",
    "input_size = n_features\n",
    "output_size = n_features\n",
    "\n",
    "\n",
    "model = nn.Linear(input_size,output_size)\n",
    "\n",
    "print(f'Prediction before training: f(5) = {model(X_test).item():.3f}') # predicting 5 so should give 10\n",
    "\n",
    "\n",
    "# training\n",
    "learning_rate = 0.01\n",
    "n_iters = 100\n",
    "\n",
    "loss = nn.MSELoss()\n",
    "optimizer = torch.optim.SGD(model.parameters(), lr=learning_rate)\n",
    "\n",
    "\n",
    "for ephoch in range(n_iters):\n",
    "    #prediction = forword pass\n",
    "    y_pred = model(X)\n",
    "    \n",
    "    #loss\n",
    "    l = loss(Y,y_pred)\n",
    "    \n",
    "    #gradients backward pass\n",
    "    l.backward()\n",
    "    \n",
    "    #update weights\n",
    "    optimizer.step()\n",
    "    \n",
    "    #zero gradients\n",
    "    optimizer.zero_grad()\n",
    "    \n",
    "    \n",
    "    if ephoch % 10 == 0:\n",
    "        [w,b] = model.parameters()\n",
    "        print(f'ephoch {ephoch+1}: w = {w[0][0].item():.3f}, loss = {l:.8f}')\n",
    "        \n",
    "print(f'Prediction after training: f(5) = {model(X_test).item():.3f}' )\n",
    "        \n",
    "        "
   ]
  },
  {
   "cell_type": "code",
   "execution_count": null,
   "id": "6b0422b9",
   "metadata": {},
   "outputs": [],
   "source": []
  },
  {
   "cell_type": "code",
   "execution_count": null,
   "id": "1a8cbe14",
   "metadata": {},
   "outputs": [],
   "source": []
  }
 ],
 "metadata": {
  "kernelspec": {
   "display_name": "Python 3 (ipykernel)",
   "language": "python",
   "name": "python3"
  },
  "language_info": {
   "codemirror_mode": {
    "name": "ipython",
    "version": 3
   },
   "file_extension": ".py",
   "mimetype": "text/x-python",
   "name": "python",
   "nbconvert_exporter": "python",
   "pygments_lexer": "ipython3",
   "version": "3.10.4"
  }
 },
 "nbformat": 4,
 "nbformat_minor": 5
}
