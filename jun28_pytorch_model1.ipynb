{
 "cells": [
  {
   "cell_type": "markdown",
   "id": "f9c6b041",
   "metadata": {},
   "source": [
    "# pytorch model with numpy (ML)"
   ]
  },
  {
   "cell_type": "code",
   "execution_count": 8,
   "id": "8784fde2",
   "metadata": {},
   "outputs": [
    {
     "name": "stdout",
     "output_type": "stream",
     "text": [
      "Prediction before training: f(5) = 0.000\n",
      "ephoch 1: w = 1.200, loss = 30.00000000\n",
      "ephoch 3: w = 1.872, loss = 0.76800019\n",
      "ephoch 5: w = 1.980, loss = 0.01966083\n",
      "ephoch 7: w = 1.997, loss = 0.00050331\n",
      "ephoch 9: w = 1.999, loss = 0.00001288\n",
      "ephoch 11: w = 2.000, loss = 0.00000033\n",
      "ephoch 13: w = 2.000, loss = 0.00000001\n",
      "ephoch 15: w = 2.000, loss = 0.00000000\n",
      "ephoch 17: w = 2.000, loss = 0.00000000\n",
      "ephoch 19: w = 2.000, loss = 0.00000000\n",
      "Prediction after training: f(5) = 10.000\n"
     ]
    }
   ],
   "source": [
    "import numpy as np\n",
    "\n",
    "# f = w * x\n",
    "\n",
    "#f = 2 * x\n",
    "\n",
    "X = np.array([1,2,3,4], dtype=np.float32)\n",
    "Y = np.array([2,4,6,8], dtype=np.float32)\n",
    "\n",
    "w = 0.0\n",
    "\n",
    "# model prediction\n",
    "def forward(x):\n",
    "    return w * x\n",
    "\n",
    "#loss = MSE\n",
    "def loss(y, y_predicted):\n",
    "    return ((y_predicted-y)**2).mean()\n",
    "\n",
    "#Gradient\n",
    "#MSE =1/N * (w*x -y)**2\n",
    "#dj/dw = 1/N 2x (w*x -y)\n",
    "\n",
    "def gradient(x,y,y_predicted):\n",
    "    return np.dot(2*x, y_predicted-y).mean()\n",
    "\n",
    "print(f'Prediction before training: f(5) = {forward(5):.3f}' ) # predicting 5 so should give 10\n",
    "\n",
    "\n",
    "# training\n",
    "learning_rate = 0.01\n",
    "n_iters = 20\n",
    "\n",
    "for ephoch in range(n_iters):\n",
    "    #prediction = forword pass\n",
    "    y_pred = forward(X)\n",
    "    \n",
    "    #loss\n",
    "    l = loss(Y,y_pred)\n",
    "    \n",
    "    #gradients\n",
    "    dw = gradient(X,Y,y_pred)\n",
    "    \n",
    "    #update weights\n",
    "    w -= learning_rate * dw\n",
    "    \n",
    "    if ephoch % 2 == 0:\n",
    "        print(f'ephoch {ephoch+1}: w = {w:.3f}, loss = {l:.8f}')\n",
    "        \n",
    "print(f'Prediction after training: f(5) = {forward(5):.3f}' )\n",
    "        \n",
    "        "
   ]
  },
  {
   "cell_type": "code",
   "execution_count": null,
   "id": "799c8b97",
   "metadata": {},
   "outputs": [],
   "source": []
  },
  {
   "cell_type": "code",
   "execution_count": null,
   "id": "5968f59a",
   "metadata": {},
   "outputs": [],
   "source": []
  }
 ],
 "metadata": {
  "kernelspec": {
   "display_name": "Python 3 (ipykernel)",
   "language": "python",
   "name": "python3"
  },
  "language_info": {
   "codemirror_mode": {
    "name": "ipython",
    "version": 3
   },
   "file_extension": ".py",
   "mimetype": "text/x-python",
   "name": "python",
   "nbconvert_exporter": "python",
   "pygments_lexer": "ipython3",
   "version": "3.10.4"
  }
 },
 "nbformat": 4,
 "nbformat_minor": 5
}
