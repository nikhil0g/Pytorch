{
 "cells": [
  {
   "cell_type": "markdown",
   "id": "87f250f2",
   "metadata": {},
   "source": [
    "# Automatic differentiation with torch.autograd\n",
    "### When training neural networks, the most frequently used algorithm is back propagation. \n",
    "### In this algorithm, parameters (model weights) are adjusted according to the gradient of the loss function \n",
    "### with respect to the given parameter. The loss function calulates the difference between the expected output\n",
    "### and the actual output that a neural network produces. The goal is to get the result of the loss function as\n",
    "### close to zero as possible. The algorithm traverse backwards through the network network to adjust the \n",
    "### weights and bias to retrain the model. That's why it's called back propagation. This back and forward \n",
    "### process of retraining the model over time to reduce the loss to 0 is called the gradient descent.\n",
    "\n",
    "### To compute those gradients, PyTorch has a built-in differentiation engine called torch.autograd.\n",
    "### It supports automatic computation of gradient for any computational graph.\n",
    "\n",
    "### Consider the simplest one-layer neural network, with input x, parameters w and b, and some loss function.\n",
    "### It can be defined in PyTorch in the following manner:"
   ]
  },
  {
   "cell_type": "code",
   "execution_count": 1,
   "id": "06048f66",
   "metadata": {},
   "outputs": [],
   "source": [
    "%matplotlib inline\n",
    "import torch\n",
    "\n",
    "x = torch.ones(5)  # input tensor\n",
    "y = torch.zeros(3)  # expected output\n",
    "w = torch.randn(5, 3, requires_grad=True)\n",
    "b = torch.randn(3, requires_grad=True)\n",
    "z = torch.matmul(x, w)+b\n",
    "loss = torch.nn.functional.binary_cross_entropy_with_logits(z, y)"
   ]
  },
  {
   "cell_type": "markdown",
   "id": "aba24e9d",
   "metadata": {},
   "source": [
    "### A function that we apply to tensors to construct computational graph is in fact an object of class Function.\n",
    "### This object knows how to compute the function in the forward direction, and also how to compute its \n",
    "### derivative during the backward propagation step. A reference to the backward propagation function is\n",
    "### stored in grad_fn property of a tensor."
   ]
  },
  {
   "cell_type": "code",
   "execution_count": 2,
   "id": "855bf653",
   "metadata": {},
   "outputs": [
    {
     "name": "stdout",
     "output_type": "stream",
     "text": [
      "Gradient function for z = <AddBackward0 object at 0x7fb66c278fd0>\n",
      "Gradient function for loss = <BinaryCrossEntropyWithLogitsBackward0 object at 0x7fb66c278940>\n"
     ]
    }
   ],
   "source": [
    "print('Gradient function for z =',z.grad_fn)\n",
    "print('Gradient function for loss =', loss.grad_fn)"
   ]
  },
  {
   "cell_type": "markdown",
   "id": "811f284e",
   "metadata": {},
   "source": [
    "# Computing gradients\n",
    "### To optimize weights of parameters in the neural network, we need to compute the derivatives of our loss function\n",
    "### to compute those derivatives, we call loss.backward(), and then retrieve the values from w.grad and b.grad:"
   ]
  },
  {
   "cell_type": "code",
   "execution_count": 3,
   "id": "c65ce729",
   "metadata": {},
   "outputs": [
    {
     "name": "stdout",
     "output_type": "stream",
     "text": [
      "tensor([[0.0051, 0.0433, 0.1946],\n",
      "        [0.0051, 0.0433, 0.1946],\n",
      "        [0.0051, 0.0433, 0.1946],\n",
      "        [0.0051, 0.0433, 0.1946],\n",
      "        [0.0051, 0.0433, 0.1946]])\n",
      "tensor([0.0051, 0.0433, 0.1946])\n"
     ]
    }
   ],
   "source": [
    "loss.backward()\n",
    "print(w.grad)\n",
    "print(b.grad)"
   ]
  },
  {
   "cell_type": "markdown",
   "id": "f546524f",
   "metadata": {},
   "source": [
    "## Disabling gradient tracking\n",
    "### By default, all tensors with requires_grad=True are tracking their computational history and support \n",
    "### gradient computation. However, there are some cases when we do not need to do that, for example, \n",
    "### when we have trained the model and just want to apply it to some input data, i.e. we only want to do \n",
    "### forward computations through the network. We can stop tracking computations by surrounding our \n",
    "### computation code with torch.no_grad() block:"
   ]
  },
  {
   "cell_type": "code",
   "execution_count": 4,
   "id": "4801b296",
   "metadata": {},
   "outputs": [
    {
     "name": "stdout",
     "output_type": "stream",
     "text": [
      "True\n",
      "False\n"
     ]
    }
   ],
   "source": [
    "z = torch.matmul(x, w)+b\n",
    "print(z.requires_grad)\n",
    "\n",
    "with torch.no_grad():\n",
    "    z = torch.matmul(x, w)+b\n",
    "print(z.requires_grad)"
   ]
  },
  {
   "cell_type": "markdown",
   "id": "fcbd8f55",
   "metadata": {},
   "source": [
    "### Another way to achieve the same result is to use the detach() method on the tensor:"
   ]
  },
  {
   "cell_type": "code",
   "execution_count": 5,
   "id": "bfefae90",
   "metadata": {},
   "outputs": [
    {
     "name": "stdout",
     "output_type": "stream",
     "text": [
      "False\n"
     ]
    }
   ],
   "source": [
    "z = torch.matmul(x, w)+b\n",
    "z_det = z.detach()\n",
    "print(z_det.requires_grad)"
   ]
  },
  {
   "cell_type": "markdown",
   "id": "5b2f2282",
   "metadata": {},
   "source": [
    "## There are reasons you might want to disable gradient tracking:\n",
    "\n",
    "### To mark some parameters in your neural network at frozen parameters. \n",
    "### This is a very common scenario for fine tuning a pre-trained network.\n",
    "### To speed up computations when you are only doing forward pass,\n",
    "### because computations on tensors that do not track gradients would be more efficient."
   ]
  },
  {
   "cell_type": "markdown",
   "id": "89cd4718",
   "metadata": {},
   "source": [
    "'''More on Computational Graphs\n",
    "Conceptually, autograd keeps a record of data (tensors) and all executed operations \n",
    "(along with the resulting new tensors) in a directed acyclic graph (DAG) consisting of Function objects. \n",
    "In this DAG, leaves are the input tensors, roots are the output tensors. \n",
    "By tracing this graph from roots to leaves, you can automatically compute the gradients using the chain rule.\n",
    "\n",
    "In a forward pass, autograd does two things simultaneously:\n",
    "\n",
    "run the requested operation to compute a resulting tensor\n",
    "maintain the operation’s gradient function in the DAG.\n",
    "The backward pass kicks off when .backward() is called on the DAG root. autograd then:\n",
    "\n",
    "computes the gradients from each .grad_fn,\n",
    "accumulates them in the respective tensor’s .grad attribute\n",
    "using the chain rule, propagates all the way to the leaf tensors.\n",
    "DAGs are dynamic in PyTorch\n",
    "\n",
    "An important thing to note is that the graph is recreated from scratch; after each .backward() call,\n",
    "autograd starts populating a new graph.\n",
    "This is exactly what allows you to use control flow statements in your model; \n",
    "you can change the shape, size and operations at every iteration if needed.\n"
   ]
  },
  {
   "cell_type": "code",
   "execution_count": 7,
   "id": "f6403fe1",
   "metadata": {},
   "outputs": [
    {
     "name": "stdout",
     "output_type": "stream",
     "text": [
      "First call\n",
      " tensor([[4., 2., 2., 2., 2.],\n",
      "        [2., 4., 2., 2., 2.],\n",
      "        [2., 2., 4., 2., 2.],\n",
      "        [2., 2., 2., 4., 2.],\n",
      "        [2., 2., 2., 2., 4.]])\n",
      "\n",
      "Second call\n",
      " tensor([[8., 4., 4., 4., 4.],\n",
      "        [4., 8., 4., 4., 4.],\n",
      "        [4., 4., 8., 4., 4.],\n",
      "        [4., 4., 4., 8., 4.],\n",
      "        [4., 4., 4., 4., 8.]])\n",
      "\n",
      "Call after zeroing gradients\n",
      " tensor([[4., 2., 2., 2., 2.],\n",
      "        [2., 4., 2., 2., 2.],\n",
      "        [2., 2., 4., 2., 2.],\n",
      "        [2., 2., 2., 4., 2.],\n",
      "        [2., 2., 2., 2., 4.]])\n"
     ]
    }
   ],
   "source": [
    "inp = torch.eye(5, requires_grad=True)\n",
    "out = (inp+1).pow(2)\n",
    "out.backward(torch.ones_like(inp), retain_graph=True)\n",
    "print(\"First call\\n\", inp.grad)\n",
    "out.backward(torch.ones_like(inp), retain_graph=True)\n",
    "print(\"\\nSecond call\\n\", inp.grad)\n",
    "inp.grad.zero_()\n",
    "out.backward(torch.ones_like(inp), retain_graph=True)\n",
    "print(\"\\nCall after zeroing gradients\\n\", inp.grad)"
   ]
  },
  {
   "cell_type": "code",
   "execution_count": null,
   "id": "b3747bda",
   "metadata": {},
   "outputs": [],
   "source": []
  }
 ],
 "metadata": {
  "kernelspec": {
   "display_name": "Python 3",
   "language": "python",
   "name": "python3"
  },
  "language_info": {
   "codemirror_mode": {
    "name": "ipython",
    "version": 3
   },
   "file_extension": ".py",
   "mimetype": "text/x-python",
   "name": "python",
   "nbconvert_exporter": "python",
   "pygments_lexer": "ipython3",
   "version": "3.6.13"
  }
 },
 "nbformat": 4,
 "nbformat_minor": 5
}
