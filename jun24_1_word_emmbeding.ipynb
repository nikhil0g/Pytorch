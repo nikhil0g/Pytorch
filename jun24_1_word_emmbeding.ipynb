{
 "cells": [
  {
   "cell_type": "markdown",
   "id": "0cc0f163",
   "metadata": {},
   "source": [
    "# Embeddings\n",
    "### In our previous example, we operated on high-dimensional bag-of-words vectors with the length of vocab_size, and we were explicitly converting from low-dimensional positional representation vectors into sparse one-hot representations.\n",
    "\n",
    "### The goal of using word embeddings and reducing the dimensionality are:\n",
    "\n",
    "### Finding the meaning of words based on their word approximation to other words. This is done by taken two word vectors and analyzing how often the words in the vectors are used together. The higher the frequency, the more you can find a correlation and relationship between the words.\n",
    "### This process of training the word embedding to find word approximations between words in a given dimension is how we reduce the word representation to low-dimensions.\n",
    "### Embedding vectors serve as numeric representations of words and are used as input to other machine learning network layers.\n",
    "### The embedding vector becomes the stored lookup table for words in the vocabulary\n",
    "### In this unit, we will continue exploring the News AG dataset. To begin, let's load the data and get some definitions from the previous unit. In addition, we will allocation our training and testing datasets; word vocabulary size; and the category of our word classes: World, Sports, Business and Sci/Tech"
   ]
  },
  {
   "cell_type": "code",
   "execution_count": null,
   "id": "4018c689",
   "metadata": {},
   "outputs": [],
   "source": [
    "!wget -q https://raw.githubusercontent.com/MicrosoftDocs/pytorchfundamentals/main/nlp-pytorch/torchnlp.py"
   ]
  },
  {
   "cell_type": "code",
   "execution_count": null,
   "id": "e86e3c6d",
   "metadata": {},
   "outputs": [],
   "source": [
    "import torch\n",
    "import torchtext\n",
    "from torchtext.data import get_tokenizer\n",
    "import numpy as np\n",
    "from torchnlp import *\n",
    "from torchinfo import summary\n",
    "train_dataset, test_dataset, classes, vocab = load_dataset()\n"
   ]
  },
  {
   "cell_type": "markdown",
   "id": "30f8705a",
   "metadata": {},
   "source": [
    "# Dealing with variable sequence size\n",
    "### When working with words, you are going to have text sequences or sentences that are of different lengths. This can be problematic in training the word embeddings neural network. For consistency in the word embedding and improve training performance, we would have to apply some padding. This can be done using the torch.nn.functional.pad on a tokenized dataset. It adds zero values to the empty indices at the end of the vector."
   ]
  },
  {
   "cell_type": "code",
   "execution_count": null,
   "id": "c3bdd941",
   "metadata": {},
   "outputs": [],
   "source": [
    "def padify(b):\n",
    "    # b is the list of tuples of length batch_size\n",
    "    #   - first element of a tuple = label, \n",
    "    #   - second = feature (text sequence)\n",
    "    # build vectorized sequence\n",
    "    v = [encode(x[1]) for x in b]\n",
    "    # first, compute max length of a sequence in this minibatch\n",
    "    l = max(map(len,v))\n",
    "    return ( # tuple of two tensors - labels and features\n",
    "        torch.LongTensor([t[0]-1 for t in b]),\n",
    "        torch.stack([torch.nn.functional.pad(torch.tensor(t),(0,l-len(t)),mode='constant',value=0) for t in v])\n",
    "    )"
   ]
  },
  {
   "cell_type": "markdown",
   "id": "f3af74b9",
   "metadata": {},
   "source": [
    "### Let's use the first 2 sentences as example to view the text length differences and effects of padding."
   ]
  },
  {
   "cell_type": "code",
   "execution_count": null,
   "id": "20c87d37",
   "metadata": {},
   "outputs": [],
   "source": [
    "first_sentence = train_dataset[0][1]\n",
    "second_sentence = train_dataset[1][1]\n",
    "\n",
    "f_tokens = encode(first_sentence)\n",
    "s_tokens = encode(second_sentence)\n",
    "\n",
    "print(f'First Sentence in dataset:\\n{first_sentence}')\n",
    "print(\"Length:\", len(train_dataset[0][1]))\n",
    "print(f'\\nSecond Sentence in dataset:\\n{second_sentence}')\n",
    "print(\"Length: \", len(train_dataset[1][1]))"
   ]
  },
  {
   "cell_type": "markdown",
   "id": "449fd35a",
   "metadata": {},
   "source": [
    "### Let's use the text sequence from the news article headlines in our dataset to change into a tokenize vector. As you will see, the text sequence have different lengths. We'll apply padding so all the text sequence will have a fixed length. This approach is used when you have a large set of text sequences in your dataset.\n",
    "\n",
    "### The length of the 1st and 2nd sentences displayed have difference lengths.\n",
    "### The max length of the dataset tensors is the length of the longest sentence length in the entire dataset.\n",
    "### The zeros are added to the empty indexes in the tensor."
   ]
  },
  {
   "cell_type": "code",
   "execution_count": null,
   "id": "e99129a5",
   "metadata": {},
   "outputs": [],
   "source": [
    "vocab_size = len(vocab)\n",
    "labels, features = padify(train_dataset)  \n",
    "print(f'features: {features}')\n",
    "\n",
    "print(f'\\nlength of first sentence: {len(f_tokens)}')\n",
    "print(f'length of second sentence: {len(s_tokens)}')\n",
    "print(f'size of features: {features.size()}')"
   ]
  },
  {
   "cell_type": "markdown",
   "id": "b77eb996",
   "metadata": {},
   "source": [
    "# What is embedding?\n",
    "### The idea of embedding is the process of mapping words into vectors, which reflects the semantic meaning of a word. The length of its vectors are the embedding dimensions size. We will later discuss how to build meaningful word embeddings, but for now let's just think of embeddings as a way to lower dimensionality of a word vector.\n",
    "\n",
    "### So, embedding layer would take a word as an input, and produce an output vector of specified embedding_size. In a sense, it is very similar to Linear layer, but instead of taking one-hot encoded vector, it will be able to take a word number as an input.\n",
    "\n",
    "### By using embedding layer as a first layer in our network, we can switch from bag-or-words to embedding bag model, where we first convert each word in our text into corresponding embedding, and then compute some aggregate function over all those embeddings, such as sum, average or max."
   ]
  },
  {
   "cell_type": "markdown",
   "id": "09e8fc0b",
   "metadata": {},
   "source": [
    "### Our classifier neural network will start with an embedding layer, then aggregation layer, and a linear classifier on top of it:\n",
    "\n",
    "### vocab_size are the size of the total number of words we have in our vocabulary.\n",
    "### embed_dim are the length of the word dimensions that show relationships between words passed as in the network.\n",
    "### num_class are the number of news categories we are trying to classify (e.g. World, Sports, Business, Sci/Tech)"
   ]
  },
  {
   "cell_type": "code",
   "execution_count": null,
   "id": "10513190",
   "metadata": {},
   "outputs": [],
   "source": [
    "class EmbedClassifier(torch.nn.Module):\n",
    "    def __init__(self, vocab_size, embed_dim, num_class):\n",
    "        super().__init__()\n",
    "        self.embedding = torch.nn.Embedding(vocab_size, embed_dim)\n",
    "        self.fc = torch.nn.Linear(embed_dim, num_class)\n",
    "\n",
    "    def forward(self, x):\n",
    "        x = self.embedding(x)\n",
    "        x = torch.mean(x,dim=1)\n",
    "        return self.fc(x)"
   ]
  },
  {
   "cell_type": "markdown",
   "id": "35ef9feb",
   "metadata": {},
   "source": [
    "## Training embedding classifier\n",
    "### Now we’ll define our training dataloader and use the collate_fn to apply the padify function to the datasets as they loaded in each batch. As a result, the training dataset will be padded."
   ]
  },
  {
   "cell_type": "code",
   "execution_count": null,
   "id": "3afb0192",
   "metadata": {},
   "outputs": [],
   "source": [
    "train_loader = torch.utils.data.DataLoader(train_dataset, batch_size=16, collate_fn=padify, shuffle=True)"
   ]
  },
  {
   "cell_type": "markdown",
   "id": "25316954",
   "metadata": {},
   "source": [
    "### We can train the model using the training function defined in the previous unit to run the embedding network. The training output serves as a vector lookup store based on the unique index tokens from the vocabulary."
   ]
  },
  {
   "cell_type": "code",
   "execution_count": null,
   "id": "1cd0e0f1",
   "metadata": {},
   "outputs": [],
   "source": [
    "net = EmbedClassifier(vocab_size,32,len(classes)).to(device)\n",
    "train_epoch(net,train_loader, lr=1, epoch_size=25000)"
   ]
  },
  {
   "cell_type": "markdown",
   "id": "b6b499ed",
   "metadata": {},
   "source": [
    "### We are only training for 25k records here (less than one full epoch) for the sake of time, but you can continue training, write a function to train for several epochs, and experiment with learning rate parameter to achieve higher accuracy. You should be able to go to the accuracy of about 90%."
   ]
  },
  {
   "cell_type": "markdown",
   "id": "90d78a6b",
   "metadata": {},
   "source": [
    "## EmbeddingBag Layer and Variable-Length Sequence Representation\n",
    "### In the previous architecture, we needed to pad all sequences to the same length in order to fit them into a minibatch. This is not the most efficient way to represent variable length sequences - another apporach would be to use offset vector, which would hold offsets of all sequences stored in one large vector.\n",
    "\n"
   ]
  },
  {
   "cell_type": "markdown",
   "id": "c196ad72",
   "metadata": {},
   "source": [
    "### To work with offset representation, we use PyTorch's EmbeddingBag layer. It is similar to Embedding, but it takes content vector and offset vector as input, and it also includes averaging layer, which can be mean, sum or max.\n",
    "\n",
    "### Here is modified network that uses EmbeddingBag:"
   ]
  },
  {
   "cell_type": "code",
   "execution_count": null,
   "id": "1a6ce7ee",
   "metadata": {},
   "outputs": [],
   "source": [
    "class EmbedClassifier(torch.nn.Module):\n",
    "    def __init__(self, vocab_size, embed_dim, num_class):\n",
    "        super().__init__()\n",
    "        self.embedding = torch.nn.EmbeddingBag(vocab_size, embed_dim)\n",
    "        self.fc = torch.nn.Linear(embed_dim, num_class)\n",
    "\n",
    "    def forward(self, text, off):\n",
    "        x = self.embedding(text, off)\n",
    "        return self.fc(x)"
   ]
  },
  {
   "cell_type": "markdown",
   "id": "f014aeab",
   "metadata": {},
   "source": [
    "### To prepare the dataset for training, we need to provide a conversion function that will prepare the offset vector:"
   ]
  },
  {
   "cell_type": "code",
   "execution_count": null,
   "id": "0fe8b323",
   "metadata": {},
   "outputs": [],
   "source": [
    "def offsetify(b):\n",
    "    # first, compute data tensor from all sequences\n",
    "    x = [torch.tensor(encode(t[1])) for t in b]\n",
    "    # now, compute the offsets by accumulating the tensor of sequence lengths\n",
    "    o = [0] + [len(t) for t in x]\n",
    "    o = torch.tensor(o[:-1]).cumsum(dim=0)\n",
    "    return ( \n",
    "        torch.LongTensor([t[0]-1 for t in b]), # labels\n",
    "        torch.cat(x), # text \n",
    "        o\n",
    "    )\n",
    "\n",
    "train_loader = torch.utils.data.DataLoader(train_dataset, batch_size=16, collate_fn=offsetify, shuffle=True)"
   ]
  },
  {
   "cell_type": "markdown",
   "id": "e2b2e861",
   "metadata": {},
   "source": [
    "### The offset vector is calculated by first combining the sentences indices into one tensor sequence, then extracting the starting index location of each sentence in the sequence. For example:\n",
    "\n",
    "### The length of the first sentence in our training dataset is 29. Meaning the first index of the offset will be 0.\n",
    "### The length of the second sentence in the dataset is 42. Meaning the second index of the offset will be 29, where the first sentence ended.\n",
    "### The third index of the offset will be 29 + 42 = 71, where the 2nd sentence ended."
   ]
  },
  {
   "cell_type": "code",
   "execution_count": null,
   "id": "f7087f62",
   "metadata": {},
   "outputs": [],
   "source": [
    "labels, features, offset = offsetify(train_dataset)  \n",
    "print(f'offset: {offset}')\n",
    "print(f'\\nlength of first sentence: {len(f_tokens)}')\n",
    "print(f'length of second sentence: {len(s_tokens)}')\n",
    "print(f'size of data vector: {features.size()}')\n",
    "print(f'size of offset vector: {offset.size()}')"
   ]
  },
  {
   "cell_type": "markdown",
   "id": "b7a3ae01",
   "metadata": {},
   "source": [
    "### that unlike in all previous examples, our network now accepts two parameters: data vector and offset vector, which are of different sizes. Similarly, our data loader also provides us with 3 values instead of 2: both text and offset vectors are provided as features. Therefore, we need to slightly adjust our training function to take care of that:"
   ]
  },
  {
   "cell_type": "code",
   "execution_count": null,
   "id": "f1349212",
   "metadata": {},
   "outputs": [],
   "source": [
    "net = EmbedClassifier(vocab_size,32,len(classes)).to(device)\n",
    "\n",
    "def train_epoch_emb(net,dataloader,lr=0.01,optimizer=None,loss_fn = torch.nn.CrossEntropyLoss(),epoch_size=None, report_freq=200):\n",
    "    optimizer = optimizer or torch.optim.Adam(net.parameters(),lr=lr)\n",
    "    loss_fn = loss_fn.to(device)\n",
    "    net.train()\n",
    "    total_loss,acc,count,i = 0,0,0,0\n",
    "    for labels,text,off in dataloader:\n",
    "        optimizer.zero_grad()\n",
    "        labels,text,off = labels.to(device), text.to(device), off.to(device)\n",
    "        out = net(text, off)\n",
    "        loss = loss_fn(out,labels) #cross_entropy(out,labels)\n",
    "        loss.backward()\n",
    "        optimizer.step()\n",
    "        total_loss+=loss\n",
    "        _,predicted = torch.max(out,1)\n",
    "        acc+=(predicted==labels).sum()\n",
    "        count+=len(labels)\n",
    "        i+=1\n",
    "        if i%report_freq==0:\n",
    "            print(f\"{count}: acc={acc.item()/count}\")\n",
    "        if epoch_size and count>epoch_size:\n",
    "            break\n",
    "    return total_loss.item()/count, acc.item()/count\n",
    "\n",
    "\n",
    "train_epoch_emb(net,train_loader, lr=4, epoch_size=25000)"
   ]
  },
  {
   "cell_type": "markdown",
   "id": "8e65fb48",
   "metadata": {},
   "source": [
    "## Semantic Embeddings: Word2Vec\n",
    "### In our previous example, the model embedding layer learnt to map words to vector representation, however, this representation did not have much semantical meaning. It would be nice to learn such vector representation, that similar words or symonims would correspond to vectors that are close to each other in terms of some vector distance (eg. euclidian distance).\n",
    "\n",
    "### To do that, we need to pre-train our embedding model on a large collection of text in a specific way. One of the first ways to train semantic embeddings is called Word2Vec. It helps map the probability of a word, based on the contexts from texts in the sequence. It is based on two main architectures that are used to produce a distributed representation of words:"
   ]
  },
  {
   "cell_type": "markdown",
   "id": "249fa891",
   "metadata": {},
   "source": [
    "### Continuous bag-of-words (CBoW) — in this architecture, we train the model to predict a word from surrounding context\n",
    "### For example: \"I like my hot dog on a __\". Here the predicted word would be \"bun\".\n",
    "\n",
    "### Continuous skip-gram is opposite to CBoW. The model uses surrounding window of context words to predict the current word. For example: you can predict dog to be more associated with the word veterinary.\n",
    "### CBoW is faster, while skip-gram is slower, but does a better job of representing infrequent words."
   ]
  },
  {
   "cell_type": "markdown",
   "id": "5e14ce85",
   "metadata": {},
   "source": [
    "### Both CBOW and Skip-Grams are “predictive” embeddings, in that they only take local contexts into account. Word2Vec does not take advantage of global context.\n",
    "\n",
    "### GloVe (Global Vectors) - derives the relationship between words. It determines how often a particular word-pair occurs together in a text by leveraging the idea of co-occurence matrix and uses neural methods to decompose co-occurrence matrix into more expressive and non linear word vectors.\n",
    "### FastText - builds on Word2Vec by learning vector representations for each word and the charachter n-grams found within each word. The values of the representations are then averaged into one vector at each training step. While this adds a lot of additional computation to pre-training, it enables word embeddings to encode sub-word information.\n",
    "### Gensim (Generate Similar) - is an open source NLP Python library that provides a unified interface to build word vectors, corpus, perform topic identification, and other NLP tasks."
   ]
  },
  {
   "cell_type": "markdown",
   "id": "b8a2b058",
   "metadata": {},
   "source": [
    "### FastText and GloVe are other word embeddings techniques that predict the probably of words appearing together.\n",
    "\n",
    "### In our Word2Vec examples, we'll using pre-trained semantic embeddings, but it is interesting to see how those embeddings can be trained using either FastText, CBoW, or Skip-gram architectures"
   ]
  },
  {
   "cell_type": "markdown",
   "id": "ca469c88",
   "metadata": {},
   "source": [
    "# Genim\n",
    "### The gensim framework can be used with Pytorch to train most commonly used embeddings in a few lines of code. To experiment with word2vec embedding pre-trained on Google News dataset, we can use the gensim library. Below we find the words that are most similar to 'neural'"
   ]
  },
  {
   "cell_type": "code",
   "execution_count": null,
   "id": "712f11bf",
   "metadata": {},
   "outputs": [],
   "source": [
    "import gensim.downloader as api\n",
    "w2v = api.load('word2vec-google-news-300')"
   ]
  },
  {
   "cell_type": "markdown",
   "id": "ec89d827",
   "metadata": {},
   "source": [
    "### Let's take a look at words that are similar to 'dog'.\n",
    "\n"
   ]
  },
  {
   "cell_type": "code",
   "execution_count": null,
   "id": "5c216ff9",
   "metadata": {},
   "outputs": [],
   "source": [
    "for w,p in w2v.most_similar('dog'):\n",
    "    print(f\"{w} -> {p}\")"
   ]
  },
  {
   "cell_type": "markdown",
   "id": "3779beac",
   "metadata": {},
   "source": [
    "### We can also extract vector embeddings from the word, to be used in training classification model (we'll only show first 20 components of the vector for clarity):"
   ]
  },
  {
   "cell_type": "code",
   "execution_count": null,
   "id": "9e6ad90d",
   "metadata": {},
   "outputs": [],
   "source": [
    "w2v.word_vec('play')[:20]"
   ]
  },
  {
   "cell_type": "markdown",
   "id": "101e52cf",
   "metadata": {},
   "source": [
    "### The great thing about semantical embeddings is that you can manipulate vector encoding to change the semantics. For example, we can ask to find a word, whose vector representation would be as close as possible to words king and woman, and as far away from the word man:"
   ]
  },
  {
   "cell_type": "code",
   "execution_count": null,
   "id": "f42a0804",
   "metadata": {},
   "outputs": [],
   "source": [
    "w2v.most_similar(positive=['king','woman'],negative=['man'])[0]"
   ]
  },
  {
   "cell_type": "markdown",
   "id": "57a76cc7",
   "metadata": {},
   "source": [
    "## Using Pre-Trained Embeddings in PyTorch\n",
    "### We can modify the example above to pre-populate the matrix in our embedding layer with semantical embeddings, such as Word2Vec. We need to take into account that vocabularies of pre-trained embedding are an addition to the existing text corpus that we already have so they will likely not match. As a result, we will initialize weights for the missing words with random values:"
   ]
  },
  {
   "cell_type": "code",
   "execution_count": null,
   "id": "0081e6b1",
   "metadata": {},
   "outputs": [],
   "source": [
    "embed_size = len(w2v.get_vector('hello'))\n",
    "print(f'Embedding size: {embed_size}')\n",
    "\n",
    "net = EmbedClassifier(vocab_size,embed_size,len(classes))\n",
    "\n",
    "print('Populating matrix, this will take some time...',end='')\n",
    "found, not_found = 0,0\n",
    "for i,w in enumerate(vocab.itos):\n",
    "    try:\n",
    "        net.embedding.weight[i].data = torch.tensor(w2v.get_vector(w))\n",
    "        found+=1\n",
    "    except:\n",
    "        net.embedding.weight[i].data = torch.normal(0.0,1.0,(embed_size,))\n",
    "        not_found+=1\n",
    "\n",
    "print(f\"Done, found {found} words, {not_found} words missing\")\n",
    "net = net.to(device)"
   ]
  },
  {
   "cell_type": "markdown",
   "id": "be9e841a",
   "metadata": {},
   "source": [
    "### Now let's train our model. Note that the time it takes to train the model is significantly larger than in the previous example, due to larger embedding layer size, and thus much higher number of parameters. Also, because of this, we may need to train our model on more examples if we want to avoid overfitting."
   ]
  },
  {
   "cell_type": "code",
   "execution_count": null,
   "id": "66512c1a",
   "metadata": {},
   "outputs": [],
   "source": [
    "train_epoch_emb(net,train_loader, lr=4, epoch_size=25000)"
   ]
  },
  {
   "cell_type": "markdown",
   "id": "6ca92b57",
   "metadata": {},
   "source": [
    "### In our case we do not see a huge increase in accuracy, which is likely due to the quite different vocalularies. To overcome the problem of different vocabularies, we can use one of the following solutions:\n",
    "\n",
    "### Re-train word2vec model on our vocabulary\n",
    "### Load our dataset with the vocabulary from the pre-trained word2vec model. Vocabulary used to load the dataset can be specified during loading.\n",
    "### The latter approach seems easier, especially because PyTorch torchtext framework contains built-in support for embeddings."
   ]
  },
  {
   "cell_type": "markdown",
   "id": "82b730a1",
   "metadata": {},
   "source": [
    "# GloVe Embeddings\n",
    "### To load our dataset with the vocabulary from a pre-trained word2vec model, we use Glove embeddings. We'll start by instantiating GloVe-based vocabulary in the following manner:"
   ]
  },
  {
   "cell_type": "code",
   "execution_count": null,
   "id": "a48848d0",
   "metadata": {},
   "outputs": [],
   "source": [
    "vocab = torchtext.vocab.GloVe(name='6B', dim=50)"
   ]
  },
  {
   "cell_type": "markdown",
   "id": "448c3e1e",
   "metadata": {},
   "source": [
    "## Loaded vocabulary has the following basic operations:\n",
    "\n",
    "### vocab.stoi dictionary allows us to convert word into its dictionary index\n",
    "### vocab.itos does the opposite - converts number into word\n",
    "### vocab.vectors is the array of embedding vectors, so to get the embedding of a word we need to use vocab.vectors[vocab.stoi[s]]\n",
    "### Here is the example of manipulating embeddings to demonstrate the equation kind-man+woman = queen (the coefficient was tweak a bit to make it work):"
   ]
  },
  {
   "cell_type": "code",
   "execution_count": null,
   "id": "96bfb835",
   "metadata": {},
   "outputs": [],
   "source": [
    "# get the vector corresponding to kind-man+woman\n",
    "qvec = vocab.vectors[vocab.stoi['king']]-vocab.vectors[vocab.stoi['man']]+1.3*vocab.vectors[vocab.stoi['woman']]\n",
    "# find the index of the closest embedding vector \n",
    "d = torch.sum((vocab.vectors-qvec)**2,dim=1)\n",
    "min_idx = torch.argmin(d)\n",
    "# find the corresponding word\n",
    "vocab.itos[min_idx]"
   ]
  },
  {
   "cell_type": "markdown",
   "id": "819780a7",
   "metadata": {},
   "source": [
    "### To train the classifier using those embeddings, we first need to encode our dataset using GloVe vocabulary:"
   ]
  },
  {
   "cell_type": "code",
   "execution_count": null,
   "id": "8a18598c",
   "metadata": {},
   "outputs": [],
   "source": [
    "def offsetify(b):\n",
    "    # first, compute data tensor from all sequences\n",
    "    x = [torch.tensor(encode(t[1],voc=vocab)) for t in b] # pass the instance of vocab to encode function!\n",
    "    # now, compute the offsets by accumulating the tensor of sequence lengths\n",
    "    o = [0] + [len(t) for t in x]\n",
    "    o = torch.tensor(o[:-1]).cumsum(dim=0)\n",
    "    return ( \n",
    "        torch.LongTensor([t[0]-1 for t in b]), # labels\n",
    "        torch.cat(x), # text \n",
    "        o\n",
    "    )"
   ]
  },
  {
   "cell_type": "markdown",
   "id": "4847f0a6",
   "metadata": {},
   "source": [
    "### As we have seen above, all vector embeddings are stored in vocab.vectors matrix. It makes it super-easy to load those weights into weights of embedding layer using simple copying:"
   ]
  },
  {
   "cell_type": "code",
   "execution_count": null,
   "id": "c2d57cd4",
   "metadata": {},
   "outputs": [],
   "source": [
    "net = EmbedClassifier(len(vocab),len(vocab.vectors[0]),len(classes))\n",
    "net.embedding.weight.data = vocab.vectors\n",
    "net = net.to(device)"
   ]
  },
  {
   "cell_type": "markdown",
   "id": "0eee530e",
   "metadata": {},
   "source": [
    "### Now let's train our model and see if we get better results:"
   ]
  },
  {
   "cell_type": "code",
   "execution_count": null,
   "id": "aa31fbe3",
   "metadata": {},
   "outputs": [],
   "source": [
    "train_loader = torch.utils.data.DataLoader(train_dataset, batch_size=16, collate_fn=offsetify, shuffle=True)\n",
    "train_epoch_emb(net,train_loader, lr=4, epoch_size=25000)"
   ]
  },
  {
   "cell_type": "markdown",
   "id": "bc0beccf",
   "metadata": {},
   "source": [
    "### One of the reasons we are not seeing a significant increase in accuracy is due to the fact that some words from our dataset are missing in the pre-trained GloVe vocabulary, and thus they are essentially ignored. To overcome this fact, we can train our own embeddings on our dataset."
   ]
  },
  {
   "cell_type": "markdown",
   "id": "00650d1e",
   "metadata": {},
   "source": [
    "# Contextual Embeddings\n",
    "### One key limitation of traditional pretrained embedding representations such as Word2Vec is the problem of word sense and removing ambiguity by making them clear. While pretrained embeddings can capture some of the meaning of words in context, every possible meaning of a word is encoded into the same embedding. This can cause problems in downstream models, since many words such as the word 'play' have different meanings depending on the context they are used in.\n",
    "\n",
    "### For example, the word 'play' in these two different sentences have quite different meaning:\n",
    "\n",
    "### I went to a play at the theatre.\n",
    "### John wants to play with his friends.\n",
    "### The pretrained embeddings above represent both meanings of the word 'play' in the same embedding. To overcome this limitation, we need to build embeddings based on the language model, which is trained on a large corpus of text, and knows how words can be put together in different contexts"
   ]
  },
  {
   "cell_type": "code",
   "execution_count": null,
   "id": "2a4381b1",
   "metadata": {},
   "outputs": [],
   "source": []
  }
 ],
 "metadata": {
  "kernelspec": {
   "display_name": "Python 3 (ipykernel)",
   "language": "python",
   "name": "python3"
  },
  "language_info": {
   "codemirror_mode": {
    "name": "ipython",
    "version": 3
   },
   "file_extension": ".py",
   "mimetype": "text/x-python",
   "name": "python",
   "nbconvert_exporter": "python",
   "pygments_lexer": "ipython3",
   "version": "3.10.4"
  }
 },
 "nbformat": 4,
 "nbformat_minor": 5
}
