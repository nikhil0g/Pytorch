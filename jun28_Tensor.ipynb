{
 "cells": [
  {
   "cell_type": "code",
   "execution_count": 1,
   "id": "2da70063",
   "metadata": {},
   "outputs": [
    {
     "name": "stdout",
     "output_type": "stream",
     "text": [
      "tensor([6.4888e+35])\n"
     ]
    }
   ],
   "source": [
    "#1D matrix \n",
    "import torch\n",
    "\n",
    "x = torch.empty(1)\n",
    "print(x)"
   ]
  },
  {
   "cell_type": "code",
   "execution_count": 2,
   "id": "10627b93",
   "metadata": {},
   "outputs": [
    {
     "name": "stdout",
     "output_type": "stream",
     "text": [
      "tensor([9.0106e+35, 4.5860e-41, 9.0109e+35])\n"
     ]
    }
   ],
   "source": [
    "#1D matrix\n",
    "import torch\n",
    "\n",
    "x = torch.empty(3)\n",
    "print(x)"
   ]
  },
  {
   "cell_type": "code",
   "execution_count": 3,
   "id": "afe8499b",
   "metadata": {},
   "outputs": [
    {
     "name": "stdout",
     "output_type": "stream",
     "text": [
      "tensor([[ 1.1549e-32,  4.5862e-41, -7.2918e+34],\n",
      "        [ 3.0627e-41,  4.4842e-44,  0.0000e+00]])\n"
     ]
    }
   ],
   "source": [
    "#2d matrix\n",
    "import torch\n",
    "\n",
    "x = torch.empty(2,3)\n",
    "print(x)"
   ]
  },
  {
   "cell_type": "code",
   "execution_count": 8,
   "id": "9185f85d",
   "metadata": {},
   "outputs": [
    {
     "name": "stdout",
     "output_type": "stream",
     "text": [
      "tensor([[[ 0.0000e+00,  0.0000e+00,  0.0000e+00],\n",
      "         [ 0.0000e+00,  1.4013e-45,  0.0000e+00]],\n",
      "\n",
      "        [[ 0.0000e+00,  0.0000e+00, -4.6575e+18],\n",
      "         [ 4.5860e-41,  0.0000e+00,  0.0000e+00]]])\n"
     ]
    }
   ],
   "source": [
    "#3d matrix\n",
    "import torch\n",
    "\n",
    "x = torch.empty(2,2,3)\n",
    "print(x)"
   ]
  },
  {
   "cell_type": "code",
   "execution_count": 13,
   "id": "8df947f1",
   "metadata": {},
   "outputs": [
    {
     "name": "stdout",
     "output_type": "stream",
     "text": [
      "tensor([[0.7662, 0.6361, 0.9211],\n",
      "        [0.2719, 0.3029, 0.9445]])\n"
     ]
    }
   ],
   "source": [
    "# with random no\n",
    "#2d matrix\n",
    "import torch\n",
    "\n",
    "x = torch.rand(2,3)\n",
    "print(x)"
   ]
  },
  {
   "cell_type": "code",
   "execution_count": 14,
   "id": "febc0e1a",
   "metadata": {},
   "outputs": [
    {
     "name": "stdout",
     "output_type": "stream",
     "text": [
      "tensor([[0., 0., 0.],\n",
      "        [0., 0., 0.]])\n"
     ]
    }
   ],
   "source": [
    "# with numpy \n",
    "#2d matrix\n",
    "import torch\n",
    "\n",
    "x = torch.zeros(2,3)\n",
    "print(x)"
   ]
  },
  {
   "cell_type": "code",
   "execution_count": 15,
   "id": "132119ae",
   "metadata": {},
   "outputs": [
    {
     "name": "stdout",
     "output_type": "stream",
     "text": [
      "tensor([[1., 1., 1.],\n",
      "        [1., 1., 1.]])\n"
     ]
    }
   ],
   "source": [
    "# with numpy \n",
    "#2d matrix\n",
    "import torch\n",
    "\n",
    "x = torch.ones(2,3)\n",
    "print(x)"
   ]
  },
  {
   "cell_type": "code",
   "execution_count": 16,
   "id": "db6cef3f",
   "metadata": {},
   "outputs": [
    {
     "name": "stdout",
     "output_type": "stream",
     "text": [
      "torch.float32\n"
     ]
    }
   ],
   "source": [
    "# checking type\n",
    "# with numpy \n",
    "#2d matrix\n",
    "import torch\n",
    "\n",
    "x = torch.zeros(2,3)\n",
    "print(x.dtype)"
   ]
  },
  {
   "cell_type": "code",
   "execution_count": 22,
   "id": "2783290d",
   "metadata": {},
   "outputs": [
    {
     "name": "stdout",
     "output_type": "stream",
     "text": [
      "torch.int32\n",
      "torch.Size([2, 3])\n"
     ]
    }
   ],
   "source": [
    "# changing type  and check size\n",
    "# with numpy \n",
    "#2d matrix\n",
    "import torch\n",
    "\n",
    "x = torch.zeros(2,3, dtype=torch.int)  #can use float16, double, float\n",
    "print(x.dtype)\n",
    "print(x.size())    # shows the size"
   ]
  },
  {
   "cell_type": "code",
   "execution_count": 24,
   "id": "373dbaa6",
   "metadata": {},
   "outputs": [
    {
     "name": "stdout",
     "output_type": "stream",
     "text": [
      "tensor([2.5000, 0.1000])\n"
     ]
    }
   ],
   "source": [
    "# Creating tensor\n",
    "\n",
    "import torch\n",
    "\n",
    "x = torch.tensor([2.5, 0.1])\n",
    "print(x)"
   ]
  },
  {
   "cell_type": "code",
   "execution_count": 25,
   "id": "a0fd1a4d",
   "metadata": {},
   "outputs": [
    {
     "name": "stdout",
     "output_type": "stream",
     "text": [
      "tensor([[0.2329, 0.4005],\n",
      "        [0.7432, 0.1725]])\n",
      "tensor([[0.0652, 0.6893],\n",
      "        [0.8986, 0.3419]])\n",
      "tensor([[0.2981, 1.0899],\n",
      "        [1.6418, 0.5144]])\n"
     ]
    }
   ],
   "source": [
    "# Creating tensor and doing operations\n",
    "\n",
    "import torch\n",
    "\n",
    "x = torch.rand(2,2)\n",
    "y = torch.rand(2,2)\n",
    "\n",
    "print(x)\n",
    "print(y)\n",
    "\n",
    "z = x + y\n",
    "print(z)"
   ]
  },
  {
   "cell_type": "code",
   "execution_count": 26,
   "id": "5e02a179",
   "metadata": {},
   "outputs": [
    {
     "name": "stdout",
     "output_type": "stream",
     "text": [
      "tensor([[1.0533, 0.9156],\n",
      "        [1.5649, 0.6652]])\n"
     ]
    }
   ],
   "source": [
    "# Another method\n",
    "\n",
    "import torch\n",
    "\n",
    "x = torch.rand(2,2)\n",
    "y = torch.rand(2,2)\n",
    "\n",
    "z = torch.add(x,y)\n",
    "print(z)\n"
   ]
  },
  {
   "cell_type": "code",
   "execution_count": 27,
   "id": "fb95db07",
   "metadata": {},
   "outputs": [
    {
     "name": "stdout",
     "output_type": "stream",
     "text": [
      "tensor([[0.8876, 1.0765],\n",
      "        [0.4492, 1.2349]])\n"
     ]
    }
   ],
   "source": [
    "# Another way\n",
    "\n",
    "import torch\n",
    "\n",
    "x = torch.rand(2,2)\n",
    "y = torch.rand(2,2)\n",
    "\n",
    "y.add_(x)     # inplace operation\n",
    "print(y)"
   ]
  },
  {
   "cell_type": "code",
   "execution_count": 31,
   "id": "46cc23ea",
   "metadata": {},
   "outputs": [
    {
     "name": "stdout",
     "output_type": "stream",
     "text": [
      "tensor([[ 0.9043,  0.3655],\n",
      "        [-0.7311, -0.0386]])\n",
      "tensor([[-0.9043, -0.3655],\n",
      "        [ 0.7311,  0.0386]])\n",
      "tensor([[-0.8492, -0.2134],\n",
      "        [ 0.1821,  0.0230]])\n",
      "tensor([[-0.8492, -0.2134],\n",
      "        [ 0.1821,  0.0230]])\n",
      "tensor([[-0.9043, -0.3655],\n",
      "        [ 0.7311,  0.0386]])\n",
      "tensor([[-0.9043, -0.3655],\n",
      "        [ 0.7311,  0.0386]])\n"
     ]
    }
   ],
   "source": [
    "#other Operations (sub,mul.div)\n",
    "\n",
    "import torch\n",
    "\n",
    "x = torch.rand(2,2)\n",
    "y = torch.rand(2,2)\n",
    "\n",
    "#sub\n",
    "z = x - y\n",
    "print(z)\n",
    "\n",
    "y.sub_(x)\n",
    "print(y)\n",
    "\n",
    "\n",
    "#mul\n",
    "z = x * y\n",
    "print(z)\n",
    "\n",
    "y.mul_(x)\n",
    "print(y)\n",
    "\n",
    "#div\n",
    "z = y / x\n",
    "print(z)\n",
    "\n",
    "y.div_(x)\n",
    "print(y)"
   ]
  },
  {
   "cell_type": "code",
   "execution_count": 35,
   "id": "3be00273",
   "metadata": {},
   "outputs": [
    {
     "name": "stdout",
     "output_type": "stream",
     "text": [
      "tensor([[0.2270, 0.8203, 0.5905],\n",
      "        [0.0214, 0.4023, 0.8639],\n",
      "        [0.1298, 0.3354, 0.2525],\n",
      "        [0.4930, 0.8128, 0.2093],\n",
      "        [0.6890, 0.6251, 0.3735]])\n",
      "tensor([0.2270, 0.0214, 0.1298, 0.4930, 0.6890])\n",
      "tensor([0.0214, 0.4023, 0.8639])\n"
     ]
    }
   ],
   "source": [
    "#Slicing\n",
    "\n",
    "x = torch.rand(5,3)\n",
    "print(x)\n",
    "\n",
    "print(x[:,0]) #print column\n",
    "print(x[1,:])  #print row"
   ]
  },
  {
   "cell_type": "code",
   "execution_count": 37,
   "id": "e4f5dfb7",
   "metadata": {},
   "outputs": [
    {
     "name": "stdout",
     "output_type": "stream",
     "text": [
      "tensor([[0.6862, 0.9064, 0.4861],\n",
      "        [0.2625, 0.7599, 0.2606],\n",
      "        [0.5210, 0.3180, 0.7173],\n",
      "        [0.0678, 0.8320, 0.2099],\n",
      "        [0.9097, 0.1881, 0.1426]])\n",
      "tensor(0.7599)\n",
      "0.7599034309387207\n"
     ]
    }
   ],
   "source": [
    "# getting tensor only one value\n",
    "x = torch.rand(5,3)\n",
    "print(x)\n",
    "\n",
    "print(x[1,1])  #getting tensor with one value\n",
    "\n",
    "print(x[1,1].item())   # getting actual value"
   ]
  },
  {
   "cell_type": "code",
   "execution_count": 42,
   "id": "8d007688",
   "metadata": {},
   "outputs": [
    {
     "name": "stdout",
     "output_type": "stream",
     "text": [
      "tensor([[0.7365, 0.4204, 0.0035, 0.3997],\n",
      "        [0.6714, 0.5961, 0.8411, 0.6150],\n",
      "        [0.5434, 0.7662, 0.9086, 0.5754],\n",
      "        [0.9267, 0.4613, 0.0159, 0.7295]])\n",
      "tensor([0.7365, 0.4204, 0.0035, 0.3997, 0.6714, 0.5961, 0.8411, 0.6150, 0.5434,\n",
      "        0.7662, 0.9086, 0.5754, 0.9267, 0.4613, 0.0159, 0.7295])\n"
     ]
    }
   ],
   "source": [
    "# reshaping tensor\n",
    "\n",
    "x = torch.rand(4,4)\n",
    "print(x)\n",
    "\n",
    "y = x.view(16)\n",
    "print(y)   # resize tensor\n"
   ]
  },
  {
   "cell_type": "code",
   "execution_count": 44,
   "id": "590c7a2b",
   "metadata": {
    "scrolled": true
   },
   "outputs": [
    {
     "name": "stdout",
     "output_type": "stream",
     "text": [
      "tensor([[0.3744, 0.6760, 0.0576, 0.0827],\n",
      "        [0.9024, 0.5547, 0.8823, 0.8625],\n",
      "        [0.1255, 0.2807, 0.4992, 0.1620],\n",
      "        [0.9857, 0.0465, 0.5653, 0.2292]])\n",
      "tensor([[0.3744, 0.6760, 0.0576, 0.0827, 0.9024, 0.5547, 0.8823, 0.8625],\n",
      "        [0.1255, 0.2807, 0.4992, 0.1620, 0.9857, 0.0465, 0.5653, 0.2292]])\n",
      "torch.Size([2, 8])\n"
     ]
    }
   ],
   "source": [
    "# Another way\n",
    "\n",
    "x = torch.rand(4,4)\n",
    "print(x)\n",
    "\n",
    "y = x.view(-1,8)   # -1 helps automatically resize the tensor\n",
    "print(y)\n",
    "print(y.size())   \n"
   ]
  },
  {
   "cell_type": "code",
   "execution_count": 49,
   "id": "59d0fde6",
   "metadata": {},
   "outputs": [
    {
     "name": "stdout",
     "output_type": "stream",
     "text": [
      "tensor([1., 1., 1., 1., 1.])\n",
      "[1. 1. 1. 1. 1.] <class 'numpy.ndarray'>\n"
     ]
    }
   ],
   "source": [
    "# creating tensor to numpy array\n",
    "\n",
    "import torch\n",
    "import numpy as np\n",
    "\n",
    "a = torch.ones(5)\n",
    "print(a)\n",
    "\n",
    "b = a.numpy()\n",
    "print(b,(type(b)))"
   ]
  },
  {
   "cell_type": "code",
   "execution_count": 50,
   "id": "8842d323",
   "metadata": {},
   "outputs": [
    {
     "name": "stdout",
     "output_type": "stream",
     "text": [
      "tensor([1., 1., 1., 1., 1.])\n",
      "[1. 1. 1. 1. 1.] <class 'numpy.ndarray'>\n",
      "tensor([2., 2., 2., 2., 2.])\n",
      "[2. 2. 2. 2. 2.]\n"
     ]
    }
   ],
   "source": [
    "import torch\n",
    "import numpy as np\n",
    "\n",
    "a = torch.ones(5)\n",
    "print(a)\n",
    "\n",
    "b = a.numpy()\n",
    "print(b,(type(b)))\n",
    "\n",
    "a.add_(1)   # be carefull it store in same memory location\n",
    "print(a)\n",
    "\n",
    "print(b)"
   ]
  },
  {
   "cell_type": "code",
   "execution_count": 53,
   "id": "0b9b41ed",
   "metadata": {},
   "outputs": [
    {
     "name": "stdout",
     "output_type": "stream",
     "text": [
      "[1. 1. 1. 1. 1.]\n",
      "tensor([1., 1., 1., 1., 1.], dtype=torch.float64)\n",
      "[2. 2. 2. 2. 2.]\n",
      "tensor([2., 2., 2., 2., 2.], dtype=torch.float64)\n"
     ]
    }
   ],
   "source": [
    "import torch\n",
    "import numpy as np\n",
    "\n",
    "a = np.ones(5)\n",
    "print(a)\n",
    "\n",
    "b = torch.from_numpy(a)\n",
    "print(b)\n",
    "\n",
    "a += 1            # be carefull it store in same memory location\n",
    "print(a)\n",
    "print(b)"
   ]
  },
  {
   "cell_type": "code",
   "execution_count": null,
   "id": "ebf820ae",
   "metadata": {},
   "outputs": [],
   "source": []
  }
 ],
 "metadata": {
  "kernelspec": {
   "display_name": "Python 3 (ipykernel)",
   "language": "python",
   "name": "python3"
  },
  "language_info": {
   "codemirror_mode": {
    "name": "ipython",
    "version": 3
   },
   "file_extension": ".py",
   "mimetype": "text/x-python",
   "name": "python",
   "nbconvert_exporter": "python",
   "pygments_lexer": "ipython3",
   "version": "3.10.4"
  }
 },
 "nbformat": 4,
 "nbformat_minor": 5
}
