{
 "cells": [
  {
   "cell_type": "markdown",
   "id": "77ebb58d",
   "metadata": {},
   "source": [
    "# 100 sapmples, 20 batch-size = 100/20 = 5 iterations for 1 epoch"
   ]
  },
  {
   "cell_type": "code",
   "execution_count": 5,
   "id": "18b20809",
   "metadata": {},
   "outputs": [
    {
     "name": "stdout",
     "output_type": "stream",
     "text": [
      "178 45\n",
      "epoch: 1/2, step 5/45, input torch.Size([4, 14])\n",
      "epoch: 1/2, step 10/45, input torch.Size([4, 14])\n",
      "epoch: 1/2, step 15/45, input torch.Size([4, 14])\n",
      "epoch: 1/2, step 20/45, input torch.Size([4, 14])\n",
      "epoch: 1/2, step 25/45, input torch.Size([4, 14])\n",
      "epoch: 1/2, step 30/45, input torch.Size([4, 14])\n",
      "epoch: 1/2, step 35/45, input torch.Size([4, 14])\n",
      "epoch: 1/2, step 40/45, input torch.Size([4, 14])\n",
      "epoch: 1/2, step 45/45, input torch.Size([2, 14])\n",
      "epoch: 2/2, step 5/45, input torch.Size([4, 14])\n",
      "epoch: 2/2, step 10/45, input torch.Size([4, 14])\n",
      "epoch: 2/2, step 15/45, input torch.Size([4, 14])\n",
      "epoch: 2/2, step 20/45, input torch.Size([4, 14])\n",
      "epoch: 2/2, step 25/45, input torch.Size([4, 14])\n",
      "epoch: 2/2, step 30/45, input torch.Size([4, 14])\n",
      "epoch: 2/2, step 35/45, input torch.Size([4, 14])\n",
      "epoch: 2/2, step 40/45, input torch.Size([4, 14])\n",
      "epoch: 2/2, step 45/45, input torch.Size([2, 14])\n"
     ]
    }
   ],
   "source": [
    "import torch\n",
    "import torchvision\n",
    "from torch.utils.data import Dataset, DataLoader\n",
    "import numpy as np\n",
    "import math\n",
    "\n",
    "\n",
    "class WineDataset(Dataset):\n",
    "    \n",
    "    def __init__(self):\n",
    "        #data loading\n",
    "        xy = np.loadtxt('wine.csv', delimiter=',', dtype=np.float32, skiprows=1)\n",
    "        self.x = torch.from_numpy(xy[:, 1:])\n",
    "        self.y = torch.from_numpy(xy[:, [0]])    # n_samples, 1\n",
    "        self.n_samples = xy.shape[0]\n",
    "        \n",
    "        \n",
    "    def __getitem__(self, index):\n",
    "        #dtaset[0]\n",
    "        return self.x[index], self.y[index]\n",
    "        \n",
    "        \n",
    "    def __len__(self):\n",
    "        #lenth of dataset\n",
    "        return self.n_samples\n",
    "    \n",
    "dataset = WineDataset()\n",
    "#first_data = dataset[0]\n",
    "#features, labels = first_data\n",
    "#print(features, labels)\n",
    "dataloader = DataLoader(dataset=dataset, batch_size=4, shuffle=True, num_workers=2)\n",
    "\n",
    "#dataiter = iter(dataloader)\n",
    "#data = dataiter.next()\n",
    "#features, labels = data\n",
    "#print(features,labels)\n",
    "\n",
    "# tarining loop\n",
    "num_epochs = 2\n",
    "total_sample = len(dataset)\n",
    "n_iterations = math.ceil(total_sample/4)\n",
    "print(total_sample,n_iterations)\n",
    "\n",
    "for epoch in range(num_epochs):\n",
    "    for i, (input, labels) in enumerate(dataloader):\n",
    "        #forward pass\n",
    "        if (i+1) % 5 == 0:\n",
    "            print(f'epoch: {epoch+1}/{num_epochs}, step {i+1}/{n_iterations}, input {input.shape}')\n",
    "        #bacward pass"
   ]
  },
  {
   "cell_type": "code",
   "execution_count": null,
   "id": "1c62a080",
   "metadata": {},
   "outputs": [],
   "source": []
  }
 ],
 "metadata": {
  "kernelspec": {
   "display_name": "Python 3 (ipykernel)",
   "language": "python",
   "name": "python3"
  },
  "language_info": {
   "codemirror_mode": {
    "name": "ipython",
    "version": 3
   },
   "file_extension": ".py",
   "mimetype": "text/x-python",
   "name": "python",
   "nbconvert_exporter": "python",
   "pygments_lexer": "ipython3",
   "version": "3.10.4"
  }
 },
 "nbformat": 4,
 "nbformat_minor": 5
}
